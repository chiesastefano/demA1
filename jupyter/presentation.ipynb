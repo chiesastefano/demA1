{
 "cells": [
  {
   "cell_type": "code",
   "execution_count": 139,
   "outputs": [],
   "source": [
    "import requests\n",
    "from key import fred_key\n",
    "import pandas as pd\n",
    "\n",
    "base_url = \"https://api.stlouisfed.org/fred/\"\n",
    "obs_endpoint = \"series/observations\"\n",
    "\n",
    "start_date = \"1950-01-01\"\n",
    "end_date = \"2023-12-31\"\n",
    "\n",
    "\n",
    "\n",
    "d_gdp = {\n",
    "    'name': 'GDP',\n",
    "    'series_id': \"GDPC1\",\n",
    "    'api_key': fred_key,\n",
    "    'file_type': 'json',\n",
    "    'observation_start': start_date,\n",
    "    'observation_end': end_date,\n",
    "    'frequency': 'a',\n",
    "    'units': 'lin'\n",
    "}\n",
    "\n",
    "d_cnd = {\n",
    "    'name': 'CND',\n",
    "    'series_id': \"PCEND\",\n",
    "    'api_key': fred_key,\n",
    "    'file_type': 'json',\n",
    "    'observation_start': start_date,\n",
    "    'observation_end': end_date,\n",
    "    'frequency': 'a',\n",
    "    'units': 'lin'\n",
    "}\n",
    "\n",
    "d_cd = {\n",
    "    'name': 'CD',\n",
    "    'series_id': \"PCEDG\",\n",
    "    'api_key': fred_key,\n",
    "    'file_type': 'json',\n",
    "    'observation_start': start_date,\n",
    "    'observation_end': end_date,\n",
    "    'frequency': 'a',\n",
    "    'units': 'lin'\n",
    "}\n",
    "\n",
    "# full-time and part-time employees\n",
    "d_h = {\n",
    "    'name': 'H',\n",
    "    'series_id': \"B4701C0A222NBEA\",\n",
    "    'api_key': fred_key,\n",
    "    'file_type': 'json',\n",
    "    'observation_start': start_date,\n",
    "    'observation_end': end_date,\n",
    "    'frequency': 'a',\n",
    "    'units': 'lin'\n",
    "}\n",
    "\n",
    "\n",
    "\n",
    "# excluding farm employees\n",
    "d_l = {\n",
    "    'name': 'L',\n",
    "    'series_id': \"PAYEMS\",\n",
    "    'api_key': fred_key,\n",
    "    'file_type': 'json',\n",
    "    'observation_start': start_date,\n",
    "    'observation_end': end_date,\n",
    "    'frequency': 'a',\n",
    "    'units': 'lin'\n",
    "}\n",
    "\n",
    "d_AveW = {\n",
    "    'name': 'AveW',\n",
    "    'series_id': \"AHETPI\",\n",
    "    'api_key': fred_key,\n",
    "    'file_type': 'json',\n",
    "    'observation_start': start_date,\n",
    "    'observation_end': end_date,\n",
    "    'frequency': 'a',\n",
    "    'units': 'lin'\n",
    "}\n",
    "\n",
    "request_parameters = [d_gdp, d_cd, d_cnd, d_h, d_l, d_AveW]\n",
    "\n",
    "\n"
   ],
   "metadata": {
    "collapsed": false,
    "ExecuteTime": {
     "end_time": "2024-05-22T16:07:54.709782900Z",
     "start_time": "2024-05-22T16:07:54.701735100Z"
    }
   },
   "id": "78e4eddf9cdc393d"
  },
  {
   "cell_type": "code",
   "execution_count": 141,
   "outputs": [
    {
     "data": {
      "text/plain": "                  GDP      CD     CND         H         L   AveW\ndate                                                            \n1950-01-01   2458.532     NaN     NaN  100064.0   45282.0    NaN\n1951-01-01   2656.320     NaN     NaN  108525.0   47926.0    NaN\n1952-01-01   2764.803     NaN     NaN  110757.0   48903.0    NaN\n1953-01-01   2894.412     NaN     NaN  112184.0   50304.0    NaN\n1954-01-01   2877.708     NaN     NaN  107712.0   49087.0    NaN\n...               ...     ...     ...       ...       ...    ...\n2019-01-01  20692.087  1522.7  3006.5  257352.0  150906.0  23.51\n2020-01-01  20234.074  1628.9  3084.2  242613.0  142165.0  24.69\n2021-01-01  21407.693  2006.4  3500.2  251215.0  146276.0  25.91\n2022-01-01  21822.037  2129.0  3868.1  259928.0  152531.0  27.57\n2023-01-01  22376.907  2198.8  3992.7       NaN  156066.0  28.93\n\n[74 rows x 6 columns]",
      "text/html": "<div>\n<style scoped>\n    .dataframe tbody tr th:only-of-type {\n        vertical-align: middle;\n    }\n\n    .dataframe tbody tr th {\n        vertical-align: top;\n    }\n\n    .dataframe thead th {\n        text-align: right;\n    }\n</style>\n<table border=\"1\" class=\"dataframe\">\n  <thead>\n    <tr style=\"text-align: right;\">\n      <th></th>\n      <th>GDP</th>\n      <th>CD</th>\n      <th>CND</th>\n      <th>H</th>\n      <th>L</th>\n      <th>AveW</th>\n    </tr>\n    <tr>\n      <th>date</th>\n      <th></th>\n      <th></th>\n      <th></th>\n      <th></th>\n      <th></th>\n      <th></th>\n    </tr>\n  </thead>\n  <tbody>\n    <tr>\n      <th>1950-01-01</th>\n      <td>2458.532</td>\n      <td>NaN</td>\n      <td>NaN</td>\n      <td>100064.0</td>\n      <td>45282.0</td>\n      <td>NaN</td>\n    </tr>\n    <tr>\n      <th>1951-01-01</th>\n      <td>2656.320</td>\n      <td>NaN</td>\n      <td>NaN</td>\n      <td>108525.0</td>\n      <td>47926.0</td>\n      <td>NaN</td>\n    </tr>\n    <tr>\n      <th>1952-01-01</th>\n      <td>2764.803</td>\n      <td>NaN</td>\n      <td>NaN</td>\n      <td>110757.0</td>\n      <td>48903.0</td>\n      <td>NaN</td>\n    </tr>\n    <tr>\n      <th>1953-01-01</th>\n      <td>2894.412</td>\n      <td>NaN</td>\n      <td>NaN</td>\n      <td>112184.0</td>\n      <td>50304.0</td>\n      <td>NaN</td>\n    </tr>\n    <tr>\n      <th>1954-01-01</th>\n      <td>2877.708</td>\n      <td>NaN</td>\n      <td>NaN</td>\n      <td>107712.0</td>\n      <td>49087.0</td>\n      <td>NaN</td>\n    </tr>\n    <tr>\n      <th>...</th>\n      <td>...</td>\n      <td>...</td>\n      <td>...</td>\n      <td>...</td>\n      <td>...</td>\n      <td>...</td>\n    </tr>\n    <tr>\n      <th>2019-01-01</th>\n      <td>20692.087</td>\n      <td>1522.7</td>\n      <td>3006.5</td>\n      <td>257352.0</td>\n      <td>150906.0</td>\n      <td>23.51</td>\n    </tr>\n    <tr>\n      <th>2020-01-01</th>\n      <td>20234.074</td>\n      <td>1628.9</td>\n      <td>3084.2</td>\n      <td>242613.0</td>\n      <td>142165.0</td>\n      <td>24.69</td>\n    </tr>\n    <tr>\n      <th>2021-01-01</th>\n      <td>21407.693</td>\n      <td>2006.4</td>\n      <td>3500.2</td>\n      <td>251215.0</td>\n      <td>146276.0</td>\n      <td>25.91</td>\n    </tr>\n    <tr>\n      <th>2022-01-01</th>\n      <td>21822.037</td>\n      <td>2129.0</td>\n      <td>3868.1</td>\n      <td>259928.0</td>\n      <td>152531.0</td>\n      <td>27.57</td>\n    </tr>\n    <tr>\n      <th>2023-01-01</th>\n      <td>22376.907</td>\n      <td>2198.8</td>\n      <td>3992.7</td>\n      <td>NaN</td>\n      <td>156066.0</td>\n      <td>28.93</td>\n    </tr>\n  </tbody>\n</table>\n<p>74 rows × 6 columns</p>\n</div>"
     },
     "execution_count": 141,
     "metadata": {},
     "output_type": "execute_result"
    }
   ],
   "source": [
    "def fetch_data(parameter):\n",
    "    response = requests.get(base_url + obs_endpoint, params=parameter)\n",
    "    if response.status_code == 200:\n",
    "        res_data = response.json()\n",
    "        obs_data = pd.DataFrame(res_data['observations'])\n",
    "        obs_data['date'] = pd.to_datetime(obs_data['date'])\n",
    "        obs_data.set_index('date', inplace=True)\n",
    "        obs_data['value'] = obs_data['value'].astype(float)\n",
    "        obs_data = obs_data.drop(['realtime_start', 'realtime_end'], axis=1)\n",
    "        obs_data.rename(columns={'value': parameter['name']}, inplace=True)\n",
    "        return obs_data\n",
    "    else:\n",
    "        print('Failed to retrieve data. Status code:', response.status_code)\n",
    "        \n",
    "\n",
    "\n",
    "dataframe = pd.DataFrame()\n",
    "# concatenate the data\n",
    "for parameter in request_parameters:\n",
    "    df = fetch_data(parameter)\n",
    "    if dataframe.empty:\n",
    "        dataframe = df\n",
    "    else:\n",
    "        dataframe = pd.concat([dataframe, df], axis=1)\n",
    "\n",
    "# Display the merged dataframe\n",
    "dataframe"
   ],
   "metadata": {
    "collapsed": false,
    "ExecuteTime": {
     "end_time": "2024-05-22T16:08:10.357303600Z",
     "start_time": "2024-05-22T16:08:06.739780200Z"
    }
   },
   "id": "8ee499de2022eda2"
  },
  {
   "cell_type": "code",
   "execution_count": 149,
   "outputs": [
    {
     "data": {
      "text/plain": "                  GDP      CD     CND         H         L   AveW     GDP/L  \\\ndate                                                                         \n1964-01-01   4205.277    59.5   152.7  122889.0   58394.0   2.54  0.072016   \n1965-01-01   4478.555    66.4   163.3  127604.0   60879.0   2.63  0.073565   \n1966-01-01   4773.931    71.8   177.9  133972.0   64025.0   2.73  0.074564   \n1967-01-01   4904.864    74.0   185.0  136172.0   65935.0   2.86  0.074389   \n1968-01-01   5145.914    84.8   199.8  139143.0   68027.0   3.02  0.075645   \n1969-01-01   5306.595    90.5   214.2  143024.0   70515.0   3.22  0.075255   \n1970-01-01   5316.391    90.0   228.8  140823.0   71007.0   3.40  0.074871   \n1971-01-01   5491.446   102.4   239.7  140043.0   71331.0   3.63  0.076985   \n1972-01-01   5780.048   116.4   257.4  144127.0   73788.0   3.90  0.078333   \n1973-01-01   6106.371   130.5   286.1  150314.0   76902.0   4.14  0.079405   \n1974-01-01   6073.363   130.2   321.4  150547.0   78383.0   4.44  0.077483   \n1975-01-01   6060.875   142.2   349.2  146463.0   77071.0   4.74  0.078640   \n1976-01-01   6387.437   168.6   377.7  150687.0   79507.0   5.06  0.080338   \n1977-01-01   6682.805   192.0   408.4  155780.0   82600.0   5.44  0.080906   \n1978-01-01   7052.711   213.3   450.2  162941.0   86829.0   5.88  0.081225   \n1979-01-01   7275.999   226.3   511.6  167633.0   89936.0   6.34  0.080902   \n1980-01-01   7257.317   226.4   573.4  166633.0   90532.0   6.85  0.080163   \n1981-01-01   7441.485   244.0   625.4  167767.0   91292.0   7.43  0.081513   \n1982-01-01   7307.314   253.0   646.3  163779.0   89685.0   7.87  0.081478   \n1983-01-01   7642.266   295.0   678.8  166077.0   90289.0   8.20  0.084642   \n1984-01-01   8195.295   342.2   721.6  174211.0   94543.0   8.49  0.086683   \n1985-01-01   8537.004   380.4   757.2  177608.0   97529.0   8.73  0.087533   \n1986-01-01   8832.611   421.4   774.2  179575.0   99498.0   8.92  0.088772   \n1987-01-01   9137.745   442.0   814.3  184787.0  102114.0   9.14  0.089486   \n1988-01-01   9519.427   475.1   862.3  189670.0  105375.0   9.44  0.090339   \n1989-01-01   9869.003   494.3   929.5  194925.0  108047.0   9.80  0.091340   \n1990-01-01  10055.129   497.1   994.2  196442.0  109528.0  10.20  0.091804   \n1991-01-01  10044.238   477.2  1020.2  192286.0  108434.0  10.51  0.092630   \n1992-01-01  10398.046   508.1  1055.2  193316.0  108793.0  10.77  0.095576   \n1993-01-01  10684.179   551.5  1090.8  196699.0  110935.0  11.05  0.096310   \n1994-01-01  11114.646   607.2  1139.4  202067.0  114386.0  11.33  0.097168   \n1995-01-01  11413.012   635.7  1179.8  207463.0  117410.0  11.65  0.097206   \n1996-01-01  11843.599   676.3  1241.4  210161.0  119819.0  12.04  0.098846   \n1997-01-01  12370.300   715.5  1291.0  216596.0  122930.0  12.50  0.100629   \n1998-01-01  12924.876   779.3  1329.1  222346.0  126136.0  13.01  0.102468   \n1999-01-01  13543.774   855.6  1431.5  226894.0  129229.0  13.49  0.104804   \n2000-01-01  14096.033   912.6  1540.6  230609.0  132018.0  14.01  0.106774   \n2001-01-01  14230.726   941.5  1584.1  227725.0  132078.0  14.54  0.107745   \n2002-01-01  14472.712   985.4  1613.4  225643.0  130634.0  14.96  0.110788   \n2003-01-01  14877.313  1017.8  1704.8  224449.0  130327.0  15.36  0.114154   \n2004-01-01  15449.757  1080.6  1821.4  227128.0  131755.0  15.68  0.117261   \n2005-01-01  15987.958  1128.6  1954.3  230400.0  134022.0  16.12  0.119294   \n2006-01-01  16433.148  1158.3  2081.3  234732.0  136432.0  16.74  0.120449   \n2007-01-01  16762.446  1188.1  2179.0  236610.0  137979.0  17.41  0.121485   \n2008-01-01  16781.485  1098.8  2264.5  234039.0  137225.0  18.06  0.122292   \n2009-01-01  16349.111  1012.1  2167.9  221573.0  131290.0  18.61  0.124527   \n2010-01-01  16789.751  1049.0  2268.9  222053.0  130335.0  19.05  0.128820   \n2011-01-01  17052.411  1093.5  2424.6  226014.0  131920.0  19.44  0.129263   \n2012-01-01  17442.759  1144.2  2493.5  230328.0  134154.0  19.73  0.130020   \n2013-01-01  17812.167  1191.8  2550.4  233870.0  136358.0  20.13  0.130628   \n2014-01-01  18261.714  1247.3  2639.3  238609.0  138920.0  20.60  0.131455   \n2015-01-01  18799.622  1315.8  2639.3  243112.0  141801.0  21.03  0.132577   \n2016-01-01  19141.672  1356.5  2676.6  246571.0  144332.0  21.54  0.132623   \n2017-01-01  19612.103  1415.9  2796.3  250050.0  146611.0  22.04  0.133770   \n2018-01-01  20193.895  1488.8  2925.4  254165.0  148897.0  22.70  0.135623   \n2019-01-01  20692.087  1522.7  3006.5  257352.0  150906.0  23.51  0.137119   \n2020-01-01  20234.074  1628.9  3084.2  242613.0  142165.0  24.69  0.142328   \n2021-01-01  21407.693  2006.4  3500.2  251215.0  146276.0  25.91  0.146351   \n2022-01-01  21822.037  2129.0  3868.1  259928.0  152531.0  27.57  0.143066   \n\n                   AveH  \ndate                     \n1964-01-01  2104.479912  \n1965-01-01  2096.026544  \n1966-01-01  2092.495119  \n1967-01-01  2065.246076  \n1968-01-01  2045.408441  \n1969-01-01  2028.277671  \n1970-01-01  1983.227006  \n1971-01-01  1963.283846  \n1972-01-01  1953.257982  \n1973-01-01  1954.617565  \n1974-01-01  1920.658816  \n1975-01-01  1900.364599  \n1976-01-01  1895.267083  \n1977-01-01  1885.956416  \n1978-01-01  1876.573495  \n1979-01-01  1863.914339  \n1980-01-01  1840.597800  \n1981-01-01  1837.696622  \n1982-01-01  1826.158220  \n1983-01-01  1839.393503  \n1984-01-01  1842.664185  \n1985-01-01  1821.078859  \n1986-01-01  1804.810147  \n1987-01-01  1809.614744  \n1988-01-01  1799.952550  \n1989-01-01  1804.076004  \n1990-01-01  1793.532247  \n1991-01-01  1773.299887  \n1992-01-01  1776.915794  \n1993-01-01  1773.101366  \n1994-01-01  1766.536115  \n1995-01-01  1766.995997  \n1996-01-01  1753.987264  \n1997-01-01  1761.945823  \n1998-01-01  1762.748145  \n1999-01-01  1755.751418  \n2000-01-01  1746.799679  \n2001-01-01  1724.170566  \n2002-01-01  1727.291517  \n2003-01-01  1722.198777  \n2004-01-01  1723.866267  \n2005-01-01  1719.120741  \n2006-01-01  1720.505453  \n2007-01-01  1714.826169  \n2008-01-01  1705.512844  \n2009-01-01  1687.660903  \n2010-01-01  1703.709671  \n2011-01-01  1713.265616  \n2012-01-01  1716.892526  \n2013-01-01  1715.117558  \n2014-01-01  1717.600058  \n2015-01-01  1714.458995  \n2016-01-01  1708.359892  \n2017-01-01  1705.533691  \n2018-01-01  1706.985366  \n2019-01-01  1705.379508  \n2020-01-01  1706.559280  \n2021-01-01  1717.404085  \n2022-01-01  1704.099495  ",
      "text/html": "<div>\n<style scoped>\n    .dataframe tbody tr th:only-of-type {\n        vertical-align: middle;\n    }\n\n    .dataframe tbody tr th {\n        vertical-align: top;\n    }\n\n    .dataframe thead th {\n        text-align: right;\n    }\n</style>\n<table border=\"1\" class=\"dataframe\">\n  <thead>\n    <tr style=\"text-align: right;\">\n      <th></th>\n      <th>GDP</th>\n      <th>CD</th>\n      <th>CND</th>\n      <th>H</th>\n      <th>L</th>\n      <th>AveW</th>\n      <th>GDP/L</th>\n      <th>AveH</th>\n    </tr>\n    <tr>\n      <th>date</th>\n      <th></th>\n      <th></th>\n      <th></th>\n      <th></th>\n      <th></th>\n      <th></th>\n      <th></th>\n      <th></th>\n    </tr>\n  </thead>\n  <tbody>\n    <tr>\n      <th>1964-01-01</th>\n      <td>4205.277</td>\n      <td>59.5</td>\n      <td>152.7</td>\n      <td>122889.0</td>\n      <td>58394.0</td>\n      <td>2.54</td>\n      <td>0.072016</td>\n      <td>2104.479912</td>\n    </tr>\n    <tr>\n      <th>1965-01-01</th>\n      <td>4478.555</td>\n      <td>66.4</td>\n      <td>163.3</td>\n      <td>127604.0</td>\n      <td>60879.0</td>\n      <td>2.63</td>\n      <td>0.073565</td>\n      <td>2096.026544</td>\n    </tr>\n    <tr>\n      <th>1966-01-01</th>\n      <td>4773.931</td>\n      <td>71.8</td>\n      <td>177.9</td>\n      <td>133972.0</td>\n      <td>64025.0</td>\n      <td>2.73</td>\n      <td>0.074564</td>\n      <td>2092.495119</td>\n    </tr>\n    <tr>\n      <th>1967-01-01</th>\n      <td>4904.864</td>\n      <td>74.0</td>\n      <td>185.0</td>\n      <td>136172.0</td>\n      <td>65935.0</td>\n      <td>2.86</td>\n      <td>0.074389</td>\n      <td>2065.246076</td>\n    </tr>\n    <tr>\n      <th>1968-01-01</th>\n      <td>5145.914</td>\n      <td>84.8</td>\n      <td>199.8</td>\n      <td>139143.0</td>\n      <td>68027.0</td>\n      <td>3.02</td>\n      <td>0.075645</td>\n      <td>2045.408441</td>\n    </tr>\n    <tr>\n      <th>1969-01-01</th>\n      <td>5306.595</td>\n      <td>90.5</td>\n      <td>214.2</td>\n      <td>143024.0</td>\n      <td>70515.0</td>\n      <td>3.22</td>\n      <td>0.075255</td>\n      <td>2028.277671</td>\n    </tr>\n    <tr>\n      <th>1970-01-01</th>\n      <td>5316.391</td>\n      <td>90.0</td>\n      <td>228.8</td>\n      <td>140823.0</td>\n      <td>71007.0</td>\n      <td>3.40</td>\n      <td>0.074871</td>\n      <td>1983.227006</td>\n    </tr>\n    <tr>\n      <th>1971-01-01</th>\n      <td>5491.446</td>\n      <td>102.4</td>\n      <td>239.7</td>\n      <td>140043.0</td>\n      <td>71331.0</td>\n      <td>3.63</td>\n      <td>0.076985</td>\n      <td>1963.283846</td>\n    </tr>\n    <tr>\n      <th>1972-01-01</th>\n      <td>5780.048</td>\n      <td>116.4</td>\n      <td>257.4</td>\n      <td>144127.0</td>\n      <td>73788.0</td>\n      <td>3.90</td>\n      <td>0.078333</td>\n      <td>1953.257982</td>\n    </tr>\n    <tr>\n      <th>1973-01-01</th>\n      <td>6106.371</td>\n      <td>130.5</td>\n      <td>286.1</td>\n      <td>150314.0</td>\n      <td>76902.0</td>\n      <td>4.14</td>\n      <td>0.079405</td>\n      <td>1954.617565</td>\n    </tr>\n    <tr>\n      <th>1974-01-01</th>\n      <td>6073.363</td>\n      <td>130.2</td>\n      <td>321.4</td>\n      <td>150547.0</td>\n      <td>78383.0</td>\n      <td>4.44</td>\n      <td>0.077483</td>\n      <td>1920.658816</td>\n    </tr>\n    <tr>\n      <th>1975-01-01</th>\n      <td>6060.875</td>\n      <td>142.2</td>\n      <td>349.2</td>\n      <td>146463.0</td>\n      <td>77071.0</td>\n      <td>4.74</td>\n      <td>0.078640</td>\n      <td>1900.364599</td>\n    </tr>\n    <tr>\n      <th>1976-01-01</th>\n      <td>6387.437</td>\n      <td>168.6</td>\n      <td>377.7</td>\n      <td>150687.0</td>\n      <td>79507.0</td>\n      <td>5.06</td>\n      <td>0.080338</td>\n      <td>1895.267083</td>\n    </tr>\n    <tr>\n      <th>1977-01-01</th>\n      <td>6682.805</td>\n      <td>192.0</td>\n      <td>408.4</td>\n      <td>155780.0</td>\n      <td>82600.0</td>\n      <td>5.44</td>\n      <td>0.080906</td>\n      <td>1885.956416</td>\n    </tr>\n    <tr>\n      <th>1978-01-01</th>\n      <td>7052.711</td>\n      <td>213.3</td>\n      <td>450.2</td>\n      <td>162941.0</td>\n      <td>86829.0</td>\n      <td>5.88</td>\n      <td>0.081225</td>\n      <td>1876.573495</td>\n    </tr>\n    <tr>\n      <th>1979-01-01</th>\n      <td>7275.999</td>\n      <td>226.3</td>\n      <td>511.6</td>\n      <td>167633.0</td>\n      <td>89936.0</td>\n      <td>6.34</td>\n      <td>0.080902</td>\n      <td>1863.914339</td>\n    </tr>\n    <tr>\n      <th>1980-01-01</th>\n      <td>7257.317</td>\n      <td>226.4</td>\n      <td>573.4</td>\n      <td>166633.0</td>\n      <td>90532.0</td>\n      <td>6.85</td>\n      <td>0.080163</td>\n      <td>1840.597800</td>\n    </tr>\n    <tr>\n      <th>1981-01-01</th>\n      <td>7441.485</td>\n      <td>244.0</td>\n      <td>625.4</td>\n      <td>167767.0</td>\n      <td>91292.0</td>\n      <td>7.43</td>\n      <td>0.081513</td>\n      <td>1837.696622</td>\n    </tr>\n    <tr>\n      <th>1982-01-01</th>\n      <td>7307.314</td>\n      <td>253.0</td>\n      <td>646.3</td>\n      <td>163779.0</td>\n      <td>89685.0</td>\n      <td>7.87</td>\n      <td>0.081478</td>\n      <td>1826.158220</td>\n    </tr>\n    <tr>\n      <th>1983-01-01</th>\n      <td>7642.266</td>\n      <td>295.0</td>\n      <td>678.8</td>\n      <td>166077.0</td>\n      <td>90289.0</td>\n      <td>8.20</td>\n      <td>0.084642</td>\n      <td>1839.393503</td>\n    </tr>\n    <tr>\n      <th>1984-01-01</th>\n      <td>8195.295</td>\n      <td>342.2</td>\n      <td>721.6</td>\n      <td>174211.0</td>\n      <td>94543.0</td>\n      <td>8.49</td>\n      <td>0.086683</td>\n      <td>1842.664185</td>\n    </tr>\n    <tr>\n      <th>1985-01-01</th>\n      <td>8537.004</td>\n      <td>380.4</td>\n      <td>757.2</td>\n      <td>177608.0</td>\n      <td>97529.0</td>\n      <td>8.73</td>\n      <td>0.087533</td>\n      <td>1821.078859</td>\n    </tr>\n    <tr>\n      <th>1986-01-01</th>\n      <td>8832.611</td>\n      <td>421.4</td>\n      <td>774.2</td>\n      <td>179575.0</td>\n      <td>99498.0</td>\n      <td>8.92</td>\n      <td>0.088772</td>\n      <td>1804.810147</td>\n    </tr>\n    <tr>\n      <th>1987-01-01</th>\n      <td>9137.745</td>\n      <td>442.0</td>\n      <td>814.3</td>\n      <td>184787.0</td>\n      <td>102114.0</td>\n      <td>9.14</td>\n      <td>0.089486</td>\n      <td>1809.614744</td>\n    </tr>\n    <tr>\n      <th>1988-01-01</th>\n      <td>9519.427</td>\n      <td>475.1</td>\n      <td>862.3</td>\n      <td>189670.0</td>\n      <td>105375.0</td>\n      <td>9.44</td>\n      <td>0.090339</td>\n      <td>1799.952550</td>\n    </tr>\n    <tr>\n      <th>1989-01-01</th>\n      <td>9869.003</td>\n      <td>494.3</td>\n      <td>929.5</td>\n      <td>194925.0</td>\n      <td>108047.0</td>\n      <td>9.80</td>\n      <td>0.091340</td>\n      <td>1804.076004</td>\n    </tr>\n    <tr>\n      <th>1990-01-01</th>\n      <td>10055.129</td>\n      <td>497.1</td>\n      <td>994.2</td>\n      <td>196442.0</td>\n      <td>109528.0</td>\n      <td>10.20</td>\n      <td>0.091804</td>\n      <td>1793.532247</td>\n    </tr>\n    <tr>\n      <th>1991-01-01</th>\n      <td>10044.238</td>\n      <td>477.2</td>\n      <td>1020.2</td>\n      <td>192286.0</td>\n      <td>108434.0</td>\n      <td>10.51</td>\n      <td>0.092630</td>\n      <td>1773.299887</td>\n    </tr>\n    <tr>\n      <th>1992-01-01</th>\n      <td>10398.046</td>\n      <td>508.1</td>\n      <td>1055.2</td>\n      <td>193316.0</td>\n      <td>108793.0</td>\n      <td>10.77</td>\n      <td>0.095576</td>\n      <td>1776.915794</td>\n    </tr>\n    <tr>\n      <th>1993-01-01</th>\n      <td>10684.179</td>\n      <td>551.5</td>\n      <td>1090.8</td>\n      <td>196699.0</td>\n      <td>110935.0</td>\n      <td>11.05</td>\n      <td>0.096310</td>\n      <td>1773.101366</td>\n    </tr>\n    <tr>\n      <th>1994-01-01</th>\n      <td>11114.646</td>\n      <td>607.2</td>\n      <td>1139.4</td>\n      <td>202067.0</td>\n      <td>114386.0</td>\n      <td>11.33</td>\n      <td>0.097168</td>\n      <td>1766.536115</td>\n    </tr>\n    <tr>\n      <th>1995-01-01</th>\n      <td>11413.012</td>\n      <td>635.7</td>\n      <td>1179.8</td>\n      <td>207463.0</td>\n      <td>117410.0</td>\n      <td>11.65</td>\n      <td>0.097206</td>\n      <td>1766.995997</td>\n    </tr>\n    <tr>\n      <th>1996-01-01</th>\n      <td>11843.599</td>\n      <td>676.3</td>\n      <td>1241.4</td>\n      <td>210161.0</td>\n      <td>119819.0</td>\n      <td>12.04</td>\n      <td>0.098846</td>\n      <td>1753.987264</td>\n    </tr>\n    <tr>\n      <th>1997-01-01</th>\n      <td>12370.300</td>\n      <td>715.5</td>\n      <td>1291.0</td>\n      <td>216596.0</td>\n      <td>122930.0</td>\n      <td>12.50</td>\n      <td>0.100629</td>\n      <td>1761.945823</td>\n    </tr>\n    <tr>\n      <th>1998-01-01</th>\n      <td>12924.876</td>\n      <td>779.3</td>\n      <td>1329.1</td>\n      <td>222346.0</td>\n      <td>126136.0</td>\n      <td>13.01</td>\n      <td>0.102468</td>\n      <td>1762.748145</td>\n    </tr>\n    <tr>\n      <th>1999-01-01</th>\n      <td>13543.774</td>\n      <td>855.6</td>\n      <td>1431.5</td>\n      <td>226894.0</td>\n      <td>129229.0</td>\n      <td>13.49</td>\n      <td>0.104804</td>\n      <td>1755.751418</td>\n    </tr>\n    <tr>\n      <th>2000-01-01</th>\n      <td>14096.033</td>\n      <td>912.6</td>\n      <td>1540.6</td>\n      <td>230609.0</td>\n      <td>132018.0</td>\n      <td>14.01</td>\n      <td>0.106774</td>\n      <td>1746.799679</td>\n    </tr>\n    <tr>\n      <th>2001-01-01</th>\n      <td>14230.726</td>\n      <td>941.5</td>\n      <td>1584.1</td>\n      <td>227725.0</td>\n      <td>132078.0</td>\n      <td>14.54</td>\n      <td>0.107745</td>\n      <td>1724.170566</td>\n    </tr>\n    <tr>\n      <th>2002-01-01</th>\n      <td>14472.712</td>\n      <td>985.4</td>\n      <td>1613.4</td>\n      <td>225643.0</td>\n      <td>130634.0</td>\n      <td>14.96</td>\n      <td>0.110788</td>\n      <td>1727.291517</td>\n    </tr>\n    <tr>\n      <th>2003-01-01</th>\n      <td>14877.313</td>\n      <td>1017.8</td>\n      <td>1704.8</td>\n      <td>224449.0</td>\n      <td>130327.0</td>\n      <td>15.36</td>\n      <td>0.114154</td>\n      <td>1722.198777</td>\n    </tr>\n    <tr>\n      <th>2004-01-01</th>\n      <td>15449.757</td>\n      <td>1080.6</td>\n      <td>1821.4</td>\n      <td>227128.0</td>\n      <td>131755.0</td>\n      <td>15.68</td>\n      <td>0.117261</td>\n      <td>1723.866267</td>\n    </tr>\n    <tr>\n      <th>2005-01-01</th>\n      <td>15987.958</td>\n      <td>1128.6</td>\n      <td>1954.3</td>\n      <td>230400.0</td>\n      <td>134022.0</td>\n      <td>16.12</td>\n      <td>0.119294</td>\n      <td>1719.120741</td>\n    </tr>\n    <tr>\n      <th>2006-01-01</th>\n      <td>16433.148</td>\n      <td>1158.3</td>\n      <td>2081.3</td>\n      <td>234732.0</td>\n      <td>136432.0</td>\n      <td>16.74</td>\n      <td>0.120449</td>\n      <td>1720.505453</td>\n    </tr>\n    <tr>\n      <th>2007-01-01</th>\n      <td>16762.446</td>\n      <td>1188.1</td>\n      <td>2179.0</td>\n      <td>236610.0</td>\n      <td>137979.0</td>\n      <td>17.41</td>\n      <td>0.121485</td>\n      <td>1714.826169</td>\n    </tr>\n    <tr>\n      <th>2008-01-01</th>\n      <td>16781.485</td>\n      <td>1098.8</td>\n      <td>2264.5</td>\n      <td>234039.0</td>\n      <td>137225.0</td>\n      <td>18.06</td>\n      <td>0.122292</td>\n      <td>1705.512844</td>\n    </tr>\n    <tr>\n      <th>2009-01-01</th>\n      <td>16349.111</td>\n      <td>1012.1</td>\n      <td>2167.9</td>\n      <td>221573.0</td>\n      <td>131290.0</td>\n      <td>18.61</td>\n      <td>0.124527</td>\n      <td>1687.660903</td>\n    </tr>\n    <tr>\n      <th>2010-01-01</th>\n      <td>16789.751</td>\n      <td>1049.0</td>\n      <td>2268.9</td>\n      <td>222053.0</td>\n      <td>130335.0</td>\n      <td>19.05</td>\n      <td>0.128820</td>\n      <td>1703.709671</td>\n    </tr>\n    <tr>\n      <th>2011-01-01</th>\n      <td>17052.411</td>\n      <td>1093.5</td>\n      <td>2424.6</td>\n      <td>226014.0</td>\n      <td>131920.0</td>\n      <td>19.44</td>\n      <td>0.129263</td>\n      <td>1713.265616</td>\n    </tr>\n    <tr>\n      <th>2012-01-01</th>\n      <td>17442.759</td>\n      <td>1144.2</td>\n      <td>2493.5</td>\n      <td>230328.0</td>\n      <td>134154.0</td>\n      <td>19.73</td>\n      <td>0.130020</td>\n      <td>1716.892526</td>\n    </tr>\n    <tr>\n      <th>2013-01-01</th>\n      <td>17812.167</td>\n      <td>1191.8</td>\n      <td>2550.4</td>\n      <td>233870.0</td>\n      <td>136358.0</td>\n      <td>20.13</td>\n      <td>0.130628</td>\n      <td>1715.117558</td>\n    </tr>\n    <tr>\n      <th>2014-01-01</th>\n      <td>18261.714</td>\n      <td>1247.3</td>\n      <td>2639.3</td>\n      <td>238609.0</td>\n      <td>138920.0</td>\n      <td>20.60</td>\n      <td>0.131455</td>\n      <td>1717.600058</td>\n    </tr>\n    <tr>\n      <th>2015-01-01</th>\n      <td>18799.622</td>\n      <td>1315.8</td>\n      <td>2639.3</td>\n      <td>243112.0</td>\n      <td>141801.0</td>\n      <td>21.03</td>\n      <td>0.132577</td>\n      <td>1714.458995</td>\n    </tr>\n    <tr>\n      <th>2016-01-01</th>\n      <td>19141.672</td>\n      <td>1356.5</td>\n      <td>2676.6</td>\n      <td>246571.0</td>\n      <td>144332.0</td>\n      <td>21.54</td>\n      <td>0.132623</td>\n      <td>1708.359892</td>\n    </tr>\n    <tr>\n      <th>2017-01-01</th>\n      <td>19612.103</td>\n      <td>1415.9</td>\n      <td>2796.3</td>\n      <td>250050.0</td>\n      <td>146611.0</td>\n      <td>22.04</td>\n      <td>0.133770</td>\n      <td>1705.533691</td>\n    </tr>\n    <tr>\n      <th>2018-01-01</th>\n      <td>20193.895</td>\n      <td>1488.8</td>\n      <td>2925.4</td>\n      <td>254165.0</td>\n      <td>148897.0</td>\n      <td>22.70</td>\n      <td>0.135623</td>\n      <td>1706.985366</td>\n    </tr>\n    <tr>\n      <th>2019-01-01</th>\n      <td>20692.087</td>\n      <td>1522.7</td>\n      <td>3006.5</td>\n      <td>257352.0</td>\n      <td>150906.0</td>\n      <td>23.51</td>\n      <td>0.137119</td>\n      <td>1705.379508</td>\n    </tr>\n    <tr>\n      <th>2020-01-01</th>\n      <td>20234.074</td>\n      <td>1628.9</td>\n      <td>3084.2</td>\n      <td>242613.0</td>\n      <td>142165.0</td>\n      <td>24.69</td>\n      <td>0.142328</td>\n      <td>1706.559280</td>\n    </tr>\n    <tr>\n      <th>2021-01-01</th>\n      <td>21407.693</td>\n      <td>2006.4</td>\n      <td>3500.2</td>\n      <td>251215.0</td>\n      <td>146276.0</td>\n      <td>25.91</td>\n      <td>0.146351</td>\n      <td>1717.404085</td>\n    </tr>\n    <tr>\n      <th>2022-01-01</th>\n      <td>21822.037</td>\n      <td>2129.0</td>\n      <td>3868.1</td>\n      <td>259928.0</td>\n      <td>152531.0</td>\n      <td>27.57</td>\n      <td>0.143066</td>\n      <td>1704.099495</td>\n    </tr>\n  </tbody>\n</table>\n</div>"
     },
     "execution_count": 149,
     "metadata": {},
     "output_type": "execute_result"
    }
   ],
   "source": [
    "# adjust the dataset\n",
    "\n",
    "# add productivity\n",
    "dataframe['GDP/L'] = (dataframe['GDP']/dataframe['L'])  # annual average income\n",
    "dataframe['AveH'] = dataframe['H']/dataframe['L']*1000\n",
    "dataset1 = dataframe.dropna()\n",
    "dataset1  # data from 1964 to 2022\n",
    "\n",
    "\n"
   ],
   "metadata": {
    "collapsed": false,
    "ExecuteTime": {
     "end_time": "2024-05-22T16:14:24.995837200Z",
     "start_time": "2024-05-22T16:14:24.944459700Z"
    }
   },
   "id": "b5062fc89c465071"
  }
 ],
 "metadata": {
  "kernelspec": {
   "display_name": "Python 3",
   "language": "python",
   "name": "python3"
  },
  "language_info": {
   "codemirror_mode": {
    "name": "ipython",
    "version": 2
   },
   "file_extension": ".py",
   "mimetype": "text/x-python",
   "name": "python",
   "nbconvert_exporter": "python",
   "pygments_lexer": "ipython2",
   "version": "2.7.6"
  }
 },
 "nbformat": 4,
 "nbformat_minor": 5
}
