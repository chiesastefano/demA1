{
 "cells": [
  {
   "cell_type": "code",
   "execution_count": 152,
   "outputs": [],
   "source": [
    "import requests\n",
    "from key import fred_key\n",
    "import pandas as pd\n",
    "\n",
    "base_url = \"https://api.stlouisfed.org/fred/\"\n",
    "obs_endpoint = \"series/observations\"\n",
    "\n",
    "start_date = \"1950-01-01\"\n",
    "end_date = \"2023-12-31\"\n",
    "\n",
    "\n",
    "\n",
    "d_gdp = {\n",
    "    'name': 'GDP',\n",
    "    'series_id': \"GDPC1\",\n",
    "    'api_key': fred_key,\n",
    "    'file_type': 'json',\n",
    "    'observation_start': start_date,\n",
    "    'observation_end': end_date,\n",
    "    'frequency': 'a',\n",
    "    'units': 'lin'\n",
    "}\n",
    "\n",
    "d_cnd = {\n",
    "    'name': 'CND',\n",
    "    'series_id': \"PCEND\",\n",
    "    'api_key': fred_key,\n",
    "    'file_type': 'json',\n",
    "    'observation_start': start_date,\n",
    "    'observation_end': end_date,\n",
    "    'frequency': 'a',\n",
    "    'units': 'lin'\n",
    "}\n",
    "\n",
    "d_cd = {\n",
    "    'name': 'CD',\n",
    "    'series_id': \"PCEDG\",\n",
    "    'api_key': fred_key,\n",
    "    'file_type': 'json',\n",
    "    'observation_start': start_date,\n",
    "    'observation_end': end_date,\n",
    "    'frequency': 'a',\n",
    "    'units': 'lin'\n",
    "}\n",
    "\n",
    "# full-time and part-time employees\n",
    "d_h = {\n",
    "    'name': 'H',\n",
    "    'series_id': \"B4701C0A222NBEA\",\n",
    "    'api_key': fred_key,\n",
    "    'file_type': 'json',\n",
    "    'observation_start': start_date,\n",
    "    'observation_end': end_date,\n",
    "    'frequency': 'a',\n",
    "    'units': 'lin'\n",
    "}\n",
    "\n",
    "\n",
    "\n",
    "# excluding farm employees\n",
    "d_l = {\n",
    "    'name': 'L',\n",
    "    'series_id': \"PAYEMS\",\n",
    "    'api_key': fred_key,\n",
    "    'file_type': 'json',\n",
    "    'observation_start': start_date,\n",
    "    'observation_end': end_date,\n",
    "    'frequency': 'a',\n",
    "    'units': 'lin'\n",
    "}\n",
    "\n",
    "d_AveW = {\n",
    "    'name': 'AveW',\n",
    "    'series_id': \"AHETPI\",\n",
    "    'api_key': fred_key,\n",
    "    'file_type': 'json',\n",
    "    'observation_start': start_date,\n",
    "    'observation_end': end_date,\n",
    "    'frequency': 'a',\n",
    "    'units': 'lin'\n",
    "}\n",
    "\n",
    "request_parameters = [d_gdp, d_cd, d_cnd, d_h, d_l, d_AveW]\n",
    "\n",
    "\n"
   ],
   "metadata": {
    "collapsed": false,
    "ExecuteTime": {
     "end_time": "2024-05-22T16:17:33.283367200Z",
     "start_time": "2024-05-22T16:17:33.252041Z"
    }
   },
   "id": "78e4eddf9cdc393d"
  },
  {
   "cell_type": "code",
   "execution_count": 153,
   "outputs": [
    {
     "data": {
      "text/plain": "                  GDP      CD     CND         H         L   AveW\ndate                                                            \n1950-01-01   2458.532     NaN     NaN  100064.0   45282.0    NaN\n1951-01-01   2656.320     NaN     NaN  108525.0   47926.0    NaN\n1952-01-01   2764.803     NaN     NaN  110757.0   48903.0    NaN\n1953-01-01   2894.412     NaN     NaN  112184.0   50304.0    NaN\n1954-01-01   2877.708     NaN     NaN  107712.0   49087.0    NaN\n...               ...     ...     ...       ...       ...    ...\n2019-01-01  20692.087  1522.7  3006.5  257352.0  150906.0  23.51\n2020-01-01  20234.074  1628.9  3084.2  242613.0  142165.0  24.69\n2021-01-01  21407.693  2006.4  3500.2  251215.0  146276.0  25.91\n2022-01-01  21822.037  2129.0  3868.1  259928.0  152531.0  27.57\n2023-01-01  22376.907  2198.8  3992.7       NaN  156066.0  28.93\n\n[74 rows x 6 columns]",
      "text/html": "<div>\n<style scoped>\n    .dataframe tbody tr th:only-of-type {\n        vertical-align: middle;\n    }\n\n    .dataframe tbody tr th {\n        vertical-align: top;\n    }\n\n    .dataframe thead th {\n        text-align: right;\n    }\n</style>\n<table border=\"1\" class=\"dataframe\">\n  <thead>\n    <tr style=\"text-align: right;\">\n      <th></th>\n      <th>GDP</th>\n      <th>CD</th>\n      <th>CND</th>\n      <th>H</th>\n      <th>L</th>\n      <th>AveW</th>\n    </tr>\n    <tr>\n      <th>date</th>\n      <th></th>\n      <th></th>\n      <th></th>\n      <th></th>\n      <th></th>\n      <th></th>\n    </tr>\n  </thead>\n  <tbody>\n    <tr>\n      <th>1950-01-01</th>\n      <td>2458.532</td>\n      <td>NaN</td>\n      <td>NaN</td>\n      <td>100064.0</td>\n      <td>45282.0</td>\n      <td>NaN</td>\n    </tr>\n    <tr>\n      <th>1951-01-01</th>\n      <td>2656.320</td>\n      <td>NaN</td>\n      <td>NaN</td>\n      <td>108525.0</td>\n      <td>47926.0</td>\n      <td>NaN</td>\n    </tr>\n    <tr>\n      <th>1952-01-01</th>\n      <td>2764.803</td>\n      <td>NaN</td>\n      <td>NaN</td>\n      <td>110757.0</td>\n      <td>48903.0</td>\n      <td>NaN</td>\n    </tr>\n    <tr>\n      <th>1953-01-01</th>\n      <td>2894.412</td>\n      <td>NaN</td>\n      <td>NaN</td>\n      <td>112184.0</td>\n      <td>50304.0</td>\n      <td>NaN</td>\n    </tr>\n    <tr>\n      <th>1954-01-01</th>\n      <td>2877.708</td>\n      <td>NaN</td>\n      <td>NaN</td>\n      <td>107712.0</td>\n      <td>49087.0</td>\n      <td>NaN</td>\n    </tr>\n    <tr>\n      <th>...</th>\n      <td>...</td>\n      <td>...</td>\n      <td>...</td>\n      <td>...</td>\n      <td>...</td>\n      <td>...</td>\n    </tr>\n    <tr>\n      <th>2019-01-01</th>\n      <td>20692.087</td>\n      <td>1522.7</td>\n      <td>3006.5</td>\n      <td>257352.0</td>\n      <td>150906.0</td>\n      <td>23.51</td>\n    </tr>\n    <tr>\n      <th>2020-01-01</th>\n      <td>20234.074</td>\n      <td>1628.9</td>\n      <td>3084.2</td>\n      <td>242613.0</td>\n      <td>142165.0</td>\n      <td>24.69</td>\n    </tr>\n    <tr>\n      <th>2021-01-01</th>\n      <td>21407.693</td>\n      <td>2006.4</td>\n      <td>3500.2</td>\n      <td>251215.0</td>\n      <td>146276.0</td>\n      <td>25.91</td>\n    </tr>\n    <tr>\n      <th>2022-01-01</th>\n      <td>21822.037</td>\n      <td>2129.0</td>\n      <td>3868.1</td>\n      <td>259928.0</td>\n      <td>152531.0</td>\n      <td>27.57</td>\n    </tr>\n    <tr>\n      <th>2023-01-01</th>\n      <td>22376.907</td>\n      <td>2198.8</td>\n      <td>3992.7</td>\n      <td>NaN</td>\n      <td>156066.0</td>\n      <td>28.93</td>\n    </tr>\n  </tbody>\n</table>\n<p>74 rows × 6 columns</p>\n</div>"
     },
     "execution_count": 153,
     "metadata": {},
     "output_type": "execute_result"
    }
   ],
   "source": [
    "def fetch_data(parameter):\n",
    "    response = requests.get(base_url + obs_endpoint, params=parameter)\n",
    "    if response.status_code == 200:\n",
    "        res_data = response.json()\n",
    "        obs_data = pd.DataFrame(res_data['observations'])\n",
    "        obs_data['date'] = pd.to_datetime(obs_data['date'])\n",
    "        obs_data.set_index('date', inplace=True)\n",
    "        obs_data['value'] = obs_data['value'].astype(float)\n",
    "        obs_data = obs_data.drop(['realtime_start', 'realtime_end'], axis=1)\n",
    "        obs_data.rename(columns={'value': parameter['name']}, inplace=True)\n",
    "        return obs_data\n",
    "    else:\n",
    "        print('Failed to retrieve data. Status code:', response.status_code)\n",
    "        \n",
    "\n",
    "\n",
    "dataframe = pd.DataFrame()\n",
    "# concatenate the data\n",
    "for parameter in request_parameters:\n",
    "    df = fetch_data(parameter)\n",
    "    if dataframe.empty:\n",
    "        dataframe = df\n",
    "    else:\n",
    "        dataframe = pd.concat([dataframe, df], axis=1)\n",
    "\n",
    "# Display the merged dataframe\n",
    "dataframe"
   ],
   "metadata": {
    "collapsed": false,
    "ExecuteTime": {
     "end_time": "2024-05-22T16:17:36.973105800Z",
     "start_time": "2024-05-22T16:17:33.267376600Z"
    }
   },
   "id": "8ee499de2022eda2"
  },
  {
   "cell_type": "code",
   "execution_count": 156,
   "outputs": [],
   "source": [
    "# adjust the dataset\n",
    "\n",
    "# add productivity\n",
    "dataframe['GDP/L'] = (dataframe['GDP']/dataframe['L'])  # annual average income\n",
    "dataframe['AveH'] = dataframe['H']/dataframe['L']*1000\n",
    "dataset1 = dataframe.dropna()\n",
    "  # data from 1964 to 2022\n",
    "dataset1.to_csv(\"data1.csv\",index=False)\n"
   ],
   "metadata": {
    "collapsed": false,
    "ExecuteTime": {
     "end_time": "2024-05-22T16:23:31.168472200Z",
     "start_time": "2024-05-22T16:23:31.128549700Z"
    }
   },
   "id": "b5062fc89c465071"
  },
  {
   "cell_type": "code",
   "execution_count": null,
   "outputs": [],
   "source": [
    "# replicate the code"
   ],
   "metadata": {
    "collapsed": false
   },
   "id": "36799fabff07592f"
  }
 ],
 "metadata": {
  "kernelspec": {
   "display_name": "Python 3",
   "language": "python",
   "name": "python3"
  },
  "language_info": {
   "codemirror_mode": {
    "name": "ipython",
    "version": 2
   },
   "file_extension": ".py",
   "mimetype": "text/x-python",
   "name": "python",
   "nbconvert_exporter": "python",
   "pygments_lexer": "ipython2",
   "version": "2.7.6"
  }
 },
 "nbformat": 4,
 "nbformat_minor": 5
}
