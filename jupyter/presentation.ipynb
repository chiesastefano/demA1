{
 "cells": [
  {
   "cell_type": "code",
   "execution_count": 10,
   "outputs": [],
   "source": [
    "import requests\n",
    "from key import fred_key\n",
    "import pandas as pd\n",
    "import numpy as np\n",
    "\n",
    "base_url = \"https://api.stlouisfed.org/fred/\"\n",
    "obs_endpoint = \"series/observations\"\n",
    "\n",
    "start_date = \"1950-01-01\"\n",
    "end_date = \"2023-12-31\"\n",
    "\n",
    "\n",
    "def create_series_dict(name, series_id):\n",
    "    units = 'log' if name != 'r' else 'lin' \n",
    "    return {\n",
    "        'name': name,\n",
    "        'series_id': series_id,\n",
    "        'api_key': fred_key,\n",
    "        'file_type': 'json',\n",
    "        'observation_start': start_date,\n",
    "        'observation_end': end_date,\n",
    "        'frequency': 'a',\n",
    "        'units': 'lin'\n",
    "    }\n",
    "\n",
    "series_list = [\n",
    "    ('GDP', 'GDPC1'),\n",
    "    ('CND', 'PCEND'),\n",
    "    ('CD', 'PCEDG'),\n",
    "    ('H', 'HOANBS'),\n",
    "    ('L', 'PAYEMS'),\n",
    "    ('AveW', 'AHETPI')\n",
    "]\n",
    "\n",
    "request_parameters = [create_series_dict(name, series_id) for name, series_id in series_list]\n",
    "\n"
   ],
   "metadata": {
    "collapsed": false,
    "ExecuteTime": {
     "end_time": "2024-05-23T12:14:31.823569200Z",
     "start_time": "2024-05-23T12:14:31.768542300Z"
    }
   },
   "id": "78e4eddf9cdc393d"
  },
  {
   "cell_type": "code",
   "execution_count": 11,
   "outputs": [
    {
     "data": {
      "text/plain": "                  GDP     CND      CD        H       L   AveW\ndate                                                         \n1950-01-01   2458.532     NaN     NaN   42.265   45282    NaN\n1951-01-01   2656.320     NaN     NaN   44.261   47926    NaN\n1952-01-01   2764.803     NaN     NaN   44.753   48903    NaN\n1953-01-01   2894.412     NaN     NaN   45.880   50304    NaN\n1954-01-01   2877.708     NaN     NaN   44.331   49087    NaN\n...               ...     ...     ...      ...     ...    ...\n2019-01-01  20692.087  3006.5  1522.7  102.791  150906  23.51\n2020-01-01  20234.074  3084.2  1628.9   95.064  142165  24.69\n2021-01-01  21407.693  3500.2  2006.4  100.227  146276  25.91\n2022-01-01  21822.037  3868.1  2129.0  104.243  152531  27.57\n2023-01-01  22376.907  3992.7  2198.8  105.391  156066  28.93\n\n[74 rows x 6 columns]",
      "text/html": "<div>\n<style scoped>\n    .dataframe tbody tr th:only-of-type {\n        vertical-align: middle;\n    }\n\n    .dataframe tbody tr th {\n        vertical-align: top;\n    }\n\n    .dataframe thead th {\n        text-align: right;\n    }\n</style>\n<table border=\"1\" class=\"dataframe\">\n  <thead>\n    <tr style=\"text-align: right;\">\n      <th></th>\n      <th>GDP</th>\n      <th>CND</th>\n      <th>CD</th>\n      <th>H</th>\n      <th>L</th>\n      <th>AveW</th>\n    </tr>\n    <tr>\n      <th>date</th>\n      <th></th>\n      <th></th>\n      <th></th>\n      <th></th>\n      <th></th>\n      <th></th>\n    </tr>\n  </thead>\n  <tbody>\n    <tr>\n      <th>1950-01-01</th>\n      <td>2458.532</td>\n      <td>NaN</td>\n      <td>NaN</td>\n      <td>42.265</td>\n      <td>45282</td>\n      <td>NaN</td>\n    </tr>\n    <tr>\n      <th>1951-01-01</th>\n      <td>2656.320</td>\n      <td>NaN</td>\n      <td>NaN</td>\n      <td>44.261</td>\n      <td>47926</td>\n      <td>NaN</td>\n    </tr>\n    <tr>\n      <th>1952-01-01</th>\n      <td>2764.803</td>\n      <td>NaN</td>\n      <td>NaN</td>\n      <td>44.753</td>\n      <td>48903</td>\n      <td>NaN</td>\n    </tr>\n    <tr>\n      <th>1953-01-01</th>\n      <td>2894.412</td>\n      <td>NaN</td>\n      <td>NaN</td>\n      <td>45.880</td>\n      <td>50304</td>\n      <td>NaN</td>\n    </tr>\n    <tr>\n      <th>1954-01-01</th>\n      <td>2877.708</td>\n      <td>NaN</td>\n      <td>NaN</td>\n      <td>44.331</td>\n      <td>49087</td>\n      <td>NaN</td>\n    </tr>\n    <tr>\n      <th>...</th>\n      <td>...</td>\n      <td>...</td>\n      <td>...</td>\n      <td>...</td>\n      <td>...</td>\n      <td>...</td>\n    </tr>\n    <tr>\n      <th>2019-01-01</th>\n      <td>20692.087</td>\n      <td>3006.5</td>\n      <td>1522.7</td>\n      <td>102.791</td>\n      <td>150906</td>\n      <td>23.51</td>\n    </tr>\n    <tr>\n      <th>2020-01-01</th>\n      <td>20234.074</td>\n      <td>3084.2</td>\n      <td>1628.9</td>\n      <td>95.064</td>\n      <td>142165</td>\n      <td>24.69</td>\n    </tr>\n    <tr>\n      <th>2021-01-01</th>\n      <td>21407.693</td>\n      <td>3500.2</td>\n      <td>2006.4</td>\n      <td>100.227</td>\n      <td>146276</td>\n      <td>25.91</td>\n    </tr>\n    <tr>\n      <th>2022-01-01</th>\n      <td>21822.037</td>\n      <td>3868.1</td>\n      <td>2129.0</td>\n      <td>104.243</td>\n      <td>152531</td>\n      <td>27.57</td>\n    </tr>\n    <tr>\n      <th>2023-01-01</th>\n      <td>22376.907</td>\n      <td>3992.7</td>\n      <td>2198.8</td>\n      <td>105.391</td>\n      <td>156066</td>\n      <td>28.93</td>\n    </tr>\n  </tbody>\n</table>\n<p>74 rows × 6 columns</p>\n</div>"
     },
     "execution_count": 11,
     "metadata": {},
     "output_type": "execute_result"
    }
   ],
   "source": [
    "def fetch_data(parameter):\n",
    "    response = requests.get(base_url + obs_endpoint, params=parameter)\n",
    "    if response.status_code == 200:\n",
    "        res_data = response.json()\n",
    "        obs_data = pd.DataFrame(res_data['observations'])\n",
    "        obs_data['date'] = pd.to_datetime(obs_data['date'])\n",
    "        obs_data.set_index('date', inplace=True)\n",
    "        obs_data = obs_data.drop(['realtime_start', 'realtime_end'], axis=1)\n",
    "\n",
    "        # Convert 'value' to numeric, coercing errors to NaN\n",
    "        obs_data['value'] = pd.to_numeric(obs_data['value'], errors='coerce')\n",
    "\n",
    "        obs_data.rename(columns={'value': parameter['name']}, inplace=True)\n",
    "        return obs_data\n",
    "    else:\n",
    "        print('Failed to retrieve data. Status code:', response.status_code)\n",
    "        return pd.DataFrame()  # Return an empty DataFrame on failure\n",
    "    \n",
    "    \n",
    "dataframe = pd.DataFrame()\n",
    "# concatenate the data\n",
    "for parameter in request_parameters:\n",
    "    df = fetch_data(parameter)\n",
    "    if dataframe.empty:\n",
    "        dataframe = df\n",
    "    else:\n",
    "        dataframe = pd.concat([dataframe, df], axis=1)\n",
    "\n",
    "# Display the merged dataframe\n",
    "dataframe"
   ],
   "metadata": {
    "collapsed": false,
    "ExecuteTime": {
     "end_time": "2024-05-23T12:14:36.829252300Z",
     "start_time": "2024-05-23T12:14:31.804552300Z"
    }
   },
   "id": "8ee499de2022eda2"
  },
  {
   "cell_type": "code",
   "execution_count": 12,
   "outputs": [
    {
     "data": {
      "text/plain": "                  GDP     CND      CD        H       L   AveW     GDP/L  \\\ndate                                                                      \n1964-01-01   4205.277   152.7    59.5   50.351   58394   2.54  0.072016   \n1965-01-01   4478.555   163.3    66.4   52.297   60879   2.63  0.073565   \n1966-01-01   4773.931   177.9    71.8   54.107   64025   2.73  0.074564   \n1967-01-01   4904.864   185.0    74.0   54.113   65935   2.86  0.074389   \n1968-01-01   5145.914   199.8    84.8   55.074   68027   3.02  0.075645   \n1969-01-01   5306.595   214.2    90.5   56.666   70515   3.22  0.075255   \n1970-01-01   5316.391   228.8    90.0   55.799   71007   3.40  0.074871   \n1971-01-01   5491.446   239.7   102.4   55.704   71331   3.63  0.076985   \n1972-01-01   5780.048   257.4   116.4   57.455   73788   3.90  0.078333   \n1973-01-01   6106.371   286.1   130.5   59.786   76902   4.14  0.079405   \n1974-01-01   6073.363   321.4   130.2   59.893   78383   4.44  0.077483   \n1975-01-01   6060.875   349.2   142.2   57.375   77071   4.74  0.078640   \n1976-01-01   6387.437   377.7   168.6   59.414   79507   5.06  0.080338   \n1977-01-01   6682.805   408.4   192.0   61.755   82600   5.44  0.080906   \n1978-01-01   7052.711   450.2   213.3   64.976   86829   5.88  0.081225   \n1979-01-01   7275.999   511.6   226.3   67.286   89936   6.34  0.080902   \n1980-01-01   7257.317   573.4   226.4   66.752   90532   6.85  0.080163   \n1981-01-01   7441.485   625.4   244.0   67.295   91292   7.43  0.081513   \n1982-01-01   7307.314   646.3   253.0   65.779   89685   7.87  0.081478   \n1983-01-01   7642.266   678.8   295.0   67.108   90289   8.20  0.084642   \n1984-01-01   8195.295   721.6   342.2   71.190   94543   8.49  0.086683   \n1985-01-01   8537.004   757.2   380.4   73.062   97529   8.73  0.087533   \n1986-01-01   8832.611   774.2   421.4   73.632   99498   8.92  0.088772   \n1987-01-01   9137.745   814.3   442.0   75.889  102114   9.14  0.089486   \n1988-01-01   9519.427   862.3   475.1   78.056  105375   9.44  0.090339   \n1989-01-01   9869.003   929.5   494.3   80.206  108047   9.80  0.091340   \n1990-01-01  10055.129   994.2   497.1   80.061  109528  10.20  0.091804   \n1991-01-01  10044.238  1020.2   477.2   78.284  108434  10.51  0.092630   \n1992-01-01  10398.046  1055.2   508.1   77.974  108793  10.77  0.095576   \n1993-01-01  10684.179  1090.8   551.5   80.290  110935  11.05  0.096310   \n1994-01-01  11114.646  1139.4   607.2   83.409  114386  11.33  0.097168   \n1995-01-01  11413.012  1179.8   635.7   85.350  117410  11.65  0.097206   \n1996-01-01  11843.599  1241.4   676.3   87.358  119819  12.04  0.098846   \n1997-01-01  12370.300  1291.0   715.5   90.124  122930  12.50  0.100629   \n1998-01-01  12924.876  1329.1   779.3   92.091  126136  13.01  0.102468   \n1999-01-01  13543.774  1431.5   855.6   93.776  129229  13.49  0.104804   \n2000-01-01  14096.033  1540.6   912.6   95.039  132018  14.01  0.106774   \n2001-01-01  14230.726  1584.1   941.5   93.275  132078  14.54  0.107745   \n2002-01-01  14472.712  1613.4   985.4   90.952  130634  14.96  0.110788   \n2003-01-01  14877.313  1704.8  1017.8   90.436  130327  15.36  0.114154   \n2004-01-01  15449.757  1821.4  1080.6   91.613  131755  15.68  0.117261   \n2005-01-01  15987.958  1954.3  1128.6   93.163  134022  16.12  0.119294   \n2006-01-01  16433.148  2081.3  1158.3   95.322  136432  16.74  0.120449   \n2007-01-01  16762.446  2179.0  1188.1   95.973  137979  17.41  0.121485   \n2008-01-01  16781.485  2264.5  1098.8   93.891  137225  18.06  0.122292   \n2009-01-01  16349.111  2167.9  1012.1   86.797  131290  18.61  0.124527   \n2010-01-01  16789.751  2268.9  1049.0   86.893  130335  19.05  0.128820   \n2011-01-01  17052.411  2424.6  1093.5   88.712  131920  19.44  0.129263   \n2012-01-01  17442.759  2493.5  1144.2   90.827  134154  19.73  0.130020   \n2013-01-01  17812.167  2550.4  1191.8   92.653  136358  20.13  0.130628   \n2014-01-01  18261.714  2639.3  1247.3   94.852  138920  20.60  0.131455   \n2015-01-01  18799.622  2639.3  1315.8   97.125  141801  21.03  0.132577   \n2016-01-01  19141.672  2676.6  1356.5   98.479  144332  21.54  0.132623   \n2017-01-01  19612.103  2796.3  1415.9   99.939  146611  22.04  0.133770   \n2018-01-01  20193.895  2925.4  1488.8  101.914  148897  22.70  0.135623   \n2019-01-01  20692.087  3006.5  1522.7  102.791  150906  23.51  0.137119   \n2020-01-01  20234.074  3084.2  1628.9   95.064  142165  24.69  0.142328   \n2021-01-01  21407.693  3500.2  2006.4  100.227  146276  25.91  0.146351   \n2022-01-01  21822.037  3868.1  2129.0  104.243  152531  27.57  0.143066   \n2023-01-01  22376.907  3992.7  2198.8  105.391  156066  28.93  0.143381   \n\n                AveH  \ndate                  \n1964-01-01  0.862263  \n1965-01-01  0.859032  \n1966-01-01  0.845092  \n1967-01-01  0.820702  \n1968-01-01  0.809590  \n1969-01-01  0.803602  \n1970-01-01  0.785824  \n1971-01-01  0.780923  \n1972-01-01  0.778650  \n1973-01-01  0.777431  \n1974-01-01  0.764107  \n1975-01-01  0.744443  \n1976-01-01  0.747280  \n1977-01-01  0.747639  \n1978-01-01  0.748321  \n1979-01-01  0.748154  \n1980-01-01  0.737330  \n1981-01-01  0.737140  \n1982-01-01  0.733445  \n1983-01-01  0.743258  \n1984-01-01  0.752991  \n1985-01-01  0.749131  \n1986-01-01  0.740035  \n1987-01-01  0.743179  \n1988-01-01  0.740745  \n1989-01-01  0.742325  \n1990-01-01  0.730964  \n1991-01-01  0.721951  \n1992-01-01  0.716719  \n1993-01-01  0.723757  \n1994-01-01  0.729189  \n1995-01-01  0.726940  \n1996-01-01  0.729083  \n1997-01-01  0.733133  \n1998-01-01  0.730093  \n1999-01-01  0.725658  \n2000-01-01  0.719894  \n2001-01-01  0.706211  \n2002-01-01  0.696235  \n2003-01-01  0.693916  \n2004-01-01  0.695328  \n2005-01-01  0.695132  \n2006-01-01  0.698678  \n2007-01-01  0.695562  \n2008-01-01  0.684212  \n2009-01-01  0.661109  \n2010-01-01  0.666690  \n2011-01-01  0.672468  \n2012-01-01  0.677035  \n2013-01-01  0.679483  \n2014-01-01  0.682781  \n2015-01-01  0.684939  \n2016-01-01  0.682309  \n2017-01-01  0.681661  \n2018-01-01  0.684460  \n2019-01-01  0.681159  \n2020-01-01  0.668688  \n2021-01-01  0.685191  \n2022-01-01  0.683422  \n2023-01-01  0.675298  ",
      "text/html": "<div>\n<style scoped>\n    .dataframe tbody tr th:only-of-type {\n        vertical-align: middle;\n    }\n\n    .dataframe tbody tr th {\n        vertical-align: top;\n    }\n\n    .dataframe thead th {\n        text-align: right;\n    }\n</style>\n<table border=\"1\" class=\"dataframe\">\n  <thead>\n    <tr style=\"text-align: right;\">\n      <th></th>\n      <th>GDP</th>\n      <th>CND</th>\n      <th>CD</th>\n      <th>H</th>\n      <th>L</th>\n      <th>AveW</th>\n      <th>GDP/L</th>\n      <th>AveH</th>\n    </tr>\n    <tr>\n      <th>date</th>\n      <th></th>\n      <th></th>\n      <th></th>\n      <th></th>\n      <th></th>\n      <th></th>\n      <th></th>\n      <th></th>\n    </tr>\n  </thead>\n  <tbody>\n    <tr>\n      <th>1964-01-01</th>\n      <td>4205.277</td>\n      <td>152.7</td>\n      <td>59.5</td>\n      <td>50.351</td>\n      <td>58394</td>\n      <td>2.54</td>\n      <td>0.072016</td>\n      <td>0.862263</td>\n    </tr>\n    <tr>\n      <th>1965-01-01</th>\n      <td>4478.555</td>\n      <td>163.3</td>\n      <td>66.4</td>\n      <td>52.297</td>\n      <td>60879</td>\n      <td>2.63</td>\n      <td>0.073565</td>\n      <td>0.859032</td>\n    </tr>\n    <tr>\n      <th>1966-01-01</th>\n      <td>4773.931</td>\n      <td>177.9</td>\n      <td>71.8</td>\n      <td>54.107</td>\n      <td>64025</td>\n      <td>2.73</td>\n      <td>0.074564</td>\n      <td>0.845092</td>\n    </tr>\n    <tr>\n      <th>1967-01-01</th>\n      <td>4904.864</td>\n      <td>185.0</td>\n      <td>74.0</td>\n      <td>54.113</td>\n      <td>65935</td>\n      <td>2.86</td>\n      <td>0.074389</td>\n      <td>0.820702</td>\n    </tr>\n    <tr>\n      <th>1968-01-01</th>\n      <td>5145.914</td>\n      <td>199.8</td>\n      <td>84.8</td>\n      <td>55.074</td>\n      <td>68027</td>\n      <td>3.02</td>\n      <td>0.075645</td>\n      <td>0.809590</td>\n    </tr>\n    <tr>\n      <th>1969-01-01</th>\n      <td>5306.595</td>\n      <td>214.2</td>\n      <td>90.5</td>\n      <td>56.666</td>\n      <td>70515</td>\n      <td>3.22</td>\n      <td>0.075255</td>\n      <td>0.803602</td>\n    </tr>\n    <tr>\n      <th>1970-01-01</th>\n      <td>5316.391</td>\n      <td>228.8</td>\n      <td>90.0</td>\n      <td>55.799</td>\n      <td>71007</td>\n      <td>3.40</td>\n      <td>0.074871</td>\n      <td>0.785824</td>\n    </tr>\n    <tr>\n      <th>1971-01-01</th>\n      <td>5491.446</td>\n      <td>239.7</td>\n      <td>102.4</td>\n      <td>55.704</td>\n      <td>71331</td>\n      <td>3.63</td>\n      <td>0.076985</td>\n      <td>0.780923</td>\n    </tr>\n    <tr>\n      <th>1972-01-01</th>\n      <td>5780.048</td>\n      <td>257.4</td>\n      <td>116.4</td>\n      <td>57.455</td>\n      <td>73788</td>\n      <td>3.90</td>\n      <td>0.078333</td>\n      <td>0.778650</td>\n    </tr>\n    <tr>\n      <th>1973-01-01</th>\n      <td>6106.371</td>\n      <td>286.1</td>\n      <td>130.5</td>\n      <td>59.786</td>\n      <td>76902</td>\n      <td>4.14</td>\n      <td>0.079405</td>\n      <td>0.777431</td>\n    </tr>\n    <tr>\n      <th>1974-01-01</th>\n      <td>6073.363</td>\n      <td>321.4</td>\n      <td>130.2</td>\n      <td>59.893</td>\n      <td>78383</td>\n      <td>4.44</td>\n      <td>0.077483</td>\n      <td>0.764107</td>\n    </tr>\n    <tr>\n      <th>1975-01-01</th>\n      <td>6060.875</td>\n      <td>349.2</td>\n      <td>142.2</td>\n      <td>57.375</td>\n      <td>77071</td>\n      <td>4.74</td>\n      <td>0.078640</td>\n      <td>0.744443</td>\n    </tr>\n    <tr>\n      <th>1976-01-01</th>\n      <td>6387.437</td>\n      <td>377.7</td>\n      <td>168.6</td>\n      <td>59.414</td>\n      <td>79507</td>\n      <td>5.06</td>\n      <td>0.080338</td>\n      <td>0.747280</td>\n    </tr>\n    <tr>\n      <th>1977-01-01</th>\n      <td>6682.805</td>\n      <td>408.4</td>\n      <td>192.0</td>\n      <td>61.755</td>\n      <td>82600</td>\n      <td>5.44</td>\n      <td>0.080906</td>\n      <td>0.747639</td>\n    </tr>\n    <tr>\n      <th>1978-01-01</th>\n      <td>7052.711</td>\n      <td>450.2</td>\n      <td>213.3</td>\n      <td>64.976</td>\n      <td>86829</td>\n      <td>5.88</td>\n      <td>0.081225</td>\n      <td>0.748321</td>\n    </tr>\n    <tr>\n      <th>1979-01-01</th>\n      <td>7275.999</td>\n      <td>511.6</td>\n      <td>226.3</td>\n      <td>67.286</td>\n      <td>89936</td>\n      <td>6.34</td>\n      <td>0.080902</td>\n      <td>0.748154</td>\n    </tr>\n    <tr>\n      <th>1980-01-01</th>\n      <td>7257.317</td>\n      <td>573.4</td>\n      <td>226.4</td>\n      <td>66.752</td>\n      <td>90532</td>\n      <td>6.85</td>\n      <td>0.080163</td>\n      <td>0.737330</td>\n    </tr>\n    <tr>\n      <th>1981-01-01</th>\n      <td>7441.485</td>\n      <td>625.4</td>\n      <td>244.0</td>\n      <td>67.295</td>\n      <td>91292</td>\n      <td>7.43</td>\n      <td>0.081513</td>\n      <td>0.737140</td>\n    </tr>\n    <tr>\n      <th>1982-01-01</th>\n      <td>7307.314</td>\n      <td>646.3</td>\n      <td>253.0</td>\n      <td>65.779</td>\n      <td>89685</td>\n      <td>7.87</td>\n      <td>0.081478</td>\n      <td>0.733445</td>\n    </tr>\n    <tr>\n      <th>1983-01-01</th>\n      <td>7642.266</td>\n      <td>678.8</td>\n      <td>295.0</td>\n      <td>67.108</td>\n      <td>90289</td>\n      <td>8.20</td>\n      <td>0.084642</td>\n      <td>0.743258</td>\n    </tr>\n    <tr>\n      <th>1984-01-01</th>\n      <td>8195.295</td>\n      <td>721.6</td>\n      <td>342.2</td>\n      <td>71.190</td>\n      <td>94543</td>\n      <td>8.49</td>\n      <td>0.086683</td>\n      <td>0.752991</td>\n    </tr>\n    <tr>\n      <th>1985-01-01</th>\n      <td>8537.004</td>\n      <td>757.2</td>\n      <td>380.4</td>\n      <td>73.062</td>\n      <td>97529</td>\n      <td>8.73</td>\n      <td>0.087533</td>\n      <td>0.749131</td>\n    </tr>\n    <tr>\n      <th>1986-01-01</th>\n      <td>8832.611</td>\n      <td>774.2</td>\n      <td>421.4</td>\n      <td>73.632</td>\n      <td>99498</td>\n      <td>8.92</td>\n      <td>0.088772</td>\n      <td>0.740035</td>\n    </tr>\n    <tr>\n      <th>1987-01-01</th>\n      <td>9137.745</td>\n      <td>814.3</td>\n      <td>442.0</td>\n      <td>75.889</td>\n      <td>102114</td>\n      <td>9.14</td>\n      <td>0.089486</td>\n      <td>0.743179</td>\n    </tr>\n    <tr>\n      <th>1988-01-01</th>\n      <td>9519.427</td>\n      <td>862.3</td>\n      <td>475.1</td>\n      <td>78.056</td>\n      <td>105375</td>\n      <td>9.44</td>\n      <td>0.090339</td>\n      <td>0.740745</td>\n    </tr>\n    <tr>\n      <th>1989-01-01</th>\n      <td>9869.003</td>\n      <td>929.5</td>\n      <td>494.3</td>\n      <td>80.206</td>\n      <td>108047</td>\n      <td>9.80</td>\n      <td>0.091340</td>\n      <td>0.742325</td>\n    </tr>\n    <tr>\n      <th>1990-01-01</th>\n      <td>10055.129</td>\n      <td>994.2</td>\n      <td>497.1</td>\n      <td>80.061</td>\n      <td>109528</td>\n      <td>10.20</td>\n      <td>0.091804</td>\n      <td>0.730964</td>\n    </tr>\n    <tr>\n      <th>1991-01-01</th>\n      <td>10044.238</td>\n      <td>1020.2</td>\n      <td>477.2</td>\n      <td>78.284</td>\n      <td>108434</td>\n      <td>10.51</td>\n      <td>0.092630</td>\n      <td>0.721951</td>\n    </tr>\n    <tr>\n      <th>1992-01-01</th>\n      <td>10398.046</td>\n      <td>1055.2</td>\n      <td>508.1</td>\n      <td>77.974</td>\n      <td>108793</td>\n      <td>10.77</td>\n      <td>0.095576</td>\n      <td>0.716719</td>\n    </tr>\n    <tr>\n      <th>1993-01-01</th>\n      <td>10684.179</td>\n      <td>1090.8</td>\n      <td>551.5</td>\n      <td>80.290</td>\n      <td>110935</td>\n      <td>11.05</td>\n      <td>0.096310</td>\n      <td>0.723757</td>\n    </tr>\n    <tr>\n      <th>1994-01-01</th>\n      <td>11114.646</td>\n      <td>1139.4</td>\n      <td>607.2</td>\n      <td>83.409</td>\n      <td>114386</td>\n      <td>11.33</td>\n      <td>0.097168</td>\n      <td>0.729189</td>\n    </tr>\n    <tr>\n      <th>1995-01-01</th>\n      <td>11413.012</td>\n      <td>1179.8</td>\n      <td>635.7</td>\n      <td>85.350</td>\n      <td>117410</td>\n      <td>11.65</td>\n      <td>0.097206</td>\n      <td>0.726940</td>\n    </tr>\n    <tr>\n      <th>1996-01-01</th>\n      <td>11843.599</td>\n      <td>1241.4</td>\n      <td>676.3</td>\n      <td>87.358</td>\n      <td>119819</td>\n      <td>12.04</td>\n      <td>0.098846</td>\n      <td>0.729083</td>\n    </tr>\n    <tr>\n      <th>1997-01-01</th>\n      <td>12370.300</td>\n      <td>1291.0</td>\n      <td>715.5</td>\n      <td>90.124</td>\n      <td>122930</td>\n      <td>12.50</td>\n      <td>0.100629</td>\n      <td>0.733133</td>\n    </tr>\n    <tr>\n      <th>1998-01-01</th>\n      <td>12924.876</td>\n      <td>1329.1</td>\n      <td>779.3</td>\n      <td>92.091</td>\n      <td>126136</td>\n      <td>13.01</td>\n      <td>0.102468</td>\n      <td>0.730093</td>\n    </tr>\n    <tr>\n      <th>1999-01-01</th>\n      <td>13543.774</td>\n      <td>1431.5</td>\n      <td>855.6</td>\n      <td>93.776</td>\n      <td>129229</td>\n      <td>13.49</td>\n      <td>0.104804</td>\n      <td>0.725658</td>\n    </tr>\n    <tr>\n      <th>2000-01-01</th>\n      <td>14096.033</td>\n      <td>1540.6</td>\n      <td>912.6</td>\n      <td>95.039</td>\n      <td>132018</td>\n      <td>14.01</td>\n      <td>0.106774</td>\n      <td>0.719894</td>\n    </tr>\n    <tr>\n      <th>2001-01-01</th>\n      <td>14230.726</td>\n      <td>1584.1</td>\n      <td>941.5</td>\n      <td>93.275</td>\n      <td>132078</td>\n      <td>14.54</td>\n      <td>0.107745</td>\n      <td>0.706211</td>\n    </tr>\n    <tr>\n      <th>2002-01-01</th>\n      <td>14472.712</td>\n      <td>1613.4</td>\n      <td>985.4</td>\n      <td>90.952</td>\n      <td>130634</td>\n      <td>14.96</td>\n      <td>0.110788</td>\n      <td>0.696235</td>\n    </tr>\n    <tr>\n      <th>2003-01-01</th>\n      <td>14877.313</td>\n      <td>1704.8</td>\n      <td>1017.8</td>\n      <td>90.436</td>\n      <td>130327</td>\n      <td>15.36</td>\n      <td>0.114154</td>\n      <td>0.693916</td>\n    </tr>\n    <tr>\n      <th>2004-01-01</th>\n      <td>15449.757</td>\n      <td>1821.4</td>\n      <td>1080.6</td>\n      <td>91.613</td>\n      <td>131755</td>\n      <td>15.68</td>\n      <td>0.117261</td>\n      <td>0.695328</td>\n    </tr>\n    <tr>\n      <th>2005-01-01</th>\n      <td>15987.958</td>\n      <td>1954.3</td>\n      <td>1128.6</td>\n      <td>93.163</td>\n      <td>134022</td>\n      <td>16.12</td>\n      <td>0.119294</td>\n      <td>0.695132</td>\n    </tr>\n    <tr>\n      <th>2006-01-01</th>\n      <td>16433.148</td>\n      <td>2081.3</td>\n      <td>1158.3</td>\n      <td>95.322</td>\n      <td>136432</td>\n      <td>16.74</td>\n      <td>0.120449</td>\n      <td>0.698678</td>\n    </tr>\n    <tr>\n      <th>2007-01-01</th>\n      <td>16762.446</td>\n      <td>2179.0</td>\n      <td>1188.1</td>\n      <td>95.973</td>\n      <td>137979</td>\n      <td>17.41</td>\n      <td>0.121485</td>\n      <td>0.695562</td>\n    </tr>\n    <tr>\n      <th>2008-01-01</th>\n      <td>16781.485</td>\n      <td>2264.5</td>\n      <td>1098.8</td>\n      <td>93.891</td>\n      <td>137225</td>\n      <td>18.06</td>\n      <td>0.122292</td>\n      <td>0.684212</td>\n    </tr>\n    <tr>\n      <th>2009-01-01</th>\n      <td>16349.111</td>\n      <td>2167.9</td>\n      <td>1012.1</td>\n      <td>86.797</td>\n      <td>131290</td>\n      <td>18.61</td>\n      <td>0.124527</td>\n      <td>0.661109</td>\n    </tr>\n    <tr>\n      <th>2010-01-01</th>\n      <td>16789.751</td>\n      <td>2268.9</td>\n      <td>1049.0</td>\n      <td>86.893</td>\n      <td>130335</td>\n      <td>19.05</td>\n      <td>0.128820</td>\n      <td>0.666690</td>\n    </tr>\n    <tr>\n      <th>2011-01-01</th>\n      <td>17052.411</td>\n      <td>2424.6</td>\n      <td>1093.5</td>\n      <td>88.712</td>\n      <td>131920</td>\n      <td>19.44</td>\n      <td>0.129263</td>\n      <td>0.672468</td>\n    </tr>\n    <tr>\n      <th>2012-01-01</th>\n      <td>17442.759</td>\n      <td>2493.5</td>\n      <td>1144.2</td>\n      <td>90.827</td>\n      <td>134154</td>\n      <td>19.73</td>\n      <td>0.130020</td>\n      <td>0.677035</td>\n    </tr>\n    <tr>\n      <th>2013-01-01</th>\n      <td>17812.167</td>\n      <td>2550.4</td>\n      <td>1191.8</td>\n      <td>92.653</td>\n      <td>136358</td>\n      <td>20.13</td>\n      <td>0.130628</td>\n      <td>0.679483</td>\n    </tr>\n    <tr>\n      <th>2014-01-01</th>\n      <td>18261.714</td>\n      <td>2639.3</td>\n      <td>1247.3</td>\n      <td>94.852</td>\n      <td>138920</td>\n      <td>20.60</td>\n      <td>0.131455</td>\n      <td>0.682781</td>\n    </tr>\n    <tr>\n      <th>2015-01-01</th>\n      <td>18799.622</td>\n      <td>2639.3</td>\n      <td>1315.8</td>\n      <td>97.125</td>\n      <td>141801</td>\n      <td>21.03</td>\n      <td>0.132577</td>\n      <td>0.684939</td>\n    </tr>\n    <tr>\n      <th>2016-01-01</th>\n      <td>19141.672</td>\n      <td>2676.6</td>\n      <td>1356.5</td>\n      <td>98.479</td>\n      <td>144332</td>\n      <td>21.54</td>\n      <td>0.132623</td>\n      <td>0.682309</td>\n    </tr>\n    <tr>\n      <th>2017-01-01</th>\n      <td>19612.103</td>\n      <td>2796.3</td>\n      <td>1415.9</td>\n      <td>99.939</td>\n      <td>146611</td>\n      <td>22.04</td>\n      <td>0.133770</td>\n      <td>0.681661</td>\n    </tr>\n    <tr>\n      <th>2018-01-01</th>\n      <td>20193.895</td>\n      <td>2925.4</td>\n      <td>1488.8</td>\n      <td>101.914</td>\n      <td>148897</td>\n      <td>22.70</td>\n      <td>0.135623</td>\n      <td>0.684460</td>\n    </tr>\n    <tr>\n      <th>2019-01-01</th>\n      <td>20692.087</td>\n      <td>3006.5</td>\n      <td>1522.7</td>\n      <td>102.791</td>\n      <td>150906</td>\n      <td>23.51</td>\n      <td>0.137119</td>\n      <td>0.681159</td>\n    </tr>\n    <tr>\n      <th>2020-01-01</th>\n      <td>20234.074</td>\n      <td>3084.2</td>\n      <td>1628.9</td>\n      <td>95.064</td>\n      <td>142165</td>\n      <td>24.69</td>\n      <td>0.142328</td>\n      <td>0.668688</td>\n    </tr>\n    <tr>\n      <th>2021-01-01</th>\n      <td>21407.693</td>\n      <td>3500.2</td>\n      <td>2006.4</td>\n      <td>100.227</td>\n      <td>146276</td>\n      <td>25.91</td>\n      <td>0.146351</td>\n      <td>0.685191</td>\n    </tr>\n    <tr>\n      <th>2022-01-01</th>\n      <td>21822.037</td>\n      <td>3868.1</td>\n      <td>2129.0</td>\n      <td>104.243</td>\n      <td>152531</td>\n      <td>27.57</td>\n      <td>0.143066</td>\n      <td>0.683422</td>\n    </tr>\n    <tr>\n      <th>2023-01-01</th>\n      <td>22376.907</td>\n      <td>3992.7</td>\n      <td>2198.8</td>\n      <td>105.391</td>\n      <td>156066</td>\n      <td>28.93</td>\n      <td>0.143381</td>\n      <td>0.675298</td>\n    </tr>\n  </tbody>\n</table>\n</div>"
     },
     "execution_count": 12,
     "metadata": {},
     "output_type": "execute_result"
    }
   ],
   "source": [
    "# adjust the dataset\n",
    "\n",
    "# add productivity\n",
    "dataframe['GDP/L'] = (dataframe['GDP']/dataframe['L'])  # annual average income\n",
    "dataframe['AveH'] = dataframe['H']/dataframe['L']*1000\n",
    "dataset1 = dataframe.dropna()\n",
    "# data from 1964 to 2022\n",
    "dataset1\n",
    "\n",
    "\n"
   ],
   "metadata": {
    "collapsed": false,
    "ExecuteTime": {
     "end_time": "2024-05-23T12:14:36.950240800Z",
     "start_time": "2024-05-23T12:14:36.824263800Z"
    }
   },
   "id": "b5062fc89c465071"
  },
  {
   "cell_type": "code",
   "execution_count": 38,
   "outputs": [],
   "source": [
    "sd = dataset1.std()/dataset1.mean()\n",
    "\n",
    "lags = range(-4, 5)\n",
    "\n",
    "# initialize a DataFrame to store cross-correlation values\n",
    "cross_corr_df = pd.DataFrame(index=dataset1.columns, columns=lags)\n",
    "\n",
    "# calculate cross-correlation for each variable and each lag\n",
    "for col in dataset1.columns:\n",
    "    for lag in lags:\n",
    "        cross_corr_df.at[col, lag] = dataset1['GDP'].corr(dataset1[col].shift(-lag))\n",
    "\n",
    "\n",
    "\n",
    "cross_corr_df['SD%'] = sd\n",
    "table1 = cross_corr_df\n",
    "table1\n",
    "\n"
   ],
   "metadata": {
    "collapsed": false,
    "ExecuteTime": {
     "end_time": "2024-05-23T13:16:18.782847300Z",
     "start_time": "2024-05-23T13:16:18.633186600Z"
    }
   },
   "id": "36799fabff07592f"
  },
  {
   "cell_type": "code",
   "execution_count": 39,
   "outputs": [],
   "source": [
    "# import data for the second table\n",
    "\n",
    "series_list2 = [\n",
    "    ('Y', 'A939RC0Q052SBEA'),\n",
    "    ('C', 'A794RC0Q052SBEA'),\n",
    "    ('I', 'RGDPLPUSA625NUPN'),\n",
    "    ('w', 'LES1252881600Q'),\n",
    "    ('r', 'FEDFUNDS'),\n",
    "    ('A', 'RTFPNAUSA632NRUG')\n",
    "]\n",
    "\n",
    "request_parameters2 = [create_series_dict(name, series_id) for name, series_id in series_list2]\n",
    "\n",
    "\n",
    "dataframe2 = pd.DataFrame()\n",
    "# concatenate the data\n",
    "for parameter in request_parameters2:\n",
    "    df = fetch_data(parameter)\n",
    "    if dataframe2.empty:\n",
    "        dataframe2 = df\n",
    "    else:\n",
    "        dataframe2 = pd.concat([dataframe2, df], axis=1)\n",
    "\n",
    "dataframe2['N'] = dataset1['AveH']\n",
    "dataframe2['Y/N'] = dataframe2['Y']/dataframe2['N']\n",
    "dataframe2\n",
    "\n",
    "dataset2 = dataframe2.dropna()\n",
    "# data from 1982 to 2007\n",
    "dataset2\n"
   ],
   "metadata": {
    "collapsed": false,
    "ExecuteTime": {
     "end_time": "2024-05-23T13:16:54.322055200Z",
     "start_time": "2024-05-23T13:16:47.338568700Z"
    }
   },
   "id": "d298a3c7449b0602"
  },
  {
   "cell_type": "code",
   "execution_count": 37,
   "outputs": [],
   "source": [
    "sd2 = dataset2.std()\n",
    "sd_r = sd2/dataset2.mean()\n",
    "p = dataset2.apply(lambda series: series.autocorr(lag = 1)) # first order autocorrection (how much the t value is influenced by the t-1 value )\n",
    "corr_Y = dataset2.corr()['Y']\n",
    "\n",
    "table2 = pd.DataFrame(index=dataset2.columns)\n",
    "table2['SD'] = sd2\n",
    "table2['SD%'] = sd_r\n",
    "table2['p'] = p\n",
    "table2['corr_Y'] = corr_Y\n",
    "table2"
   ],
   "metadata": {
    "collapsed": false,
    "ExecuteTime": {
     "end_time": "2024-05-23T13:14:49.975592600Z",
     "start_time": "2024-05-23T13:14:49.919978300Z"
    }
   },
   "id": "af28ff3e3db61e64"
  },
  {
   "cell_type": "code",
   "execution_count": null,
   "outputs": [],
   "source": [],
   "metadata": {
    "collapsed": false
   },
   "id": "cae9b1897e2010b7"
  }
 ],
 "metadata": {
  "kernelspec": {
   "display_name": "Python 3",
   "language": "python",
   "name": "python3"
  },
  "language_info": {
   "codemirror_mode": {
    "name": "ipython",
    "version": 2
   },
   "file_extension": ".py",
   "mimetype": "text/x-python",
   "name": "python",
   "nbconvert_exporter": "python",
   "pygments_lexer": "ipython2",
   "version": "2.7.6"
  }
 },
 "nbformat": 4,
 "nbformat_minor": 5
}
