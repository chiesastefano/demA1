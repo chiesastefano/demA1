{
 "cells": [
  {
   "cell_type": "code",
   "execution_count": 7,
   "outputs": [],
   "source": [
    "import requests\n",
    "from key import fred_key\n",
    "import pandas as pd\n",
    "\n",
    "base_url = \"https://api.stlouisfed.org/fred/\"\n",
    "obs_endpoint = \"series/observations\"\n",
    "\n",
    "start_date = \"1950-01-01\"\n",
    "end_date = \"2023-12-31\"\n",
    "\n",
    "d_gdp = {\n",
    "    'series_id': \"GDPC1\",\n",
    "    'api_key': fred_key,\n",
    "    'file_type': 'json',\n",
    "    'observation_start': start_date,\n",
    "    'observation_end': end_date,\n",
    "    'frequency': 'q',\n",
    "    'units': 'log'\n",
    "}\n",
    "#dssdsdds\n",
    "obs_param = []\n",
    "obs_param.append(d_gdp)\n",
    "\n",
    "\n",
    "d_cnd = {\n",
    "    'series_id': \"PCEND\",\n",
    "    'api_key': fred_key,\n",
    "    'file_type': 'json',\n",
    "    'observation_start': start_date,\n",
    "    'observation_end': end_date,\n",
    "    'frequency': 'q',\n",
    "    'units': 'log'\n",
    "}\n",
    "obs_param.append(d_cnd)\n",
    "\n",
    "\n",
    "d_cd = {\n",
    "    'series_id': \"PCEDG\",\n",
    "    'api_key': fred_key,\n",
    "    'file_type': 'json',\n",
    "    'observation_start': start_date,\n",
    "    'observation_end': end_date,\n",
    "    'frequency': 'q',\n",
    "    'units': 'log'\n",
    "}\n",
    "obs_param.append(d_cd)\n",
    "\n",
    "\n",
    "\n",
    "\n",
    "\n",
    "response = requests.get(base_url + obs_endpoint, params=obs_params)\n",
    "# Format data\n",
    "if response.status_code == 200:\n",
    "    res_data = response.json()\n",
    "    obs_data = pd.DataFrame(res_data['observations'])\n",
    "    obs_data['date'] = pd.to_datetime(obs_data['date'])\n",
    "    obs_data.set_index('date', inplace=True)\n",
    "    obs_data['value'] = obs_data['value'].astype(float)\n",
    "\n",
    "else:\n",
    "    print('Failed to retrieve data. Status code:', response.status_code)\n",
    "\n",
    "\n"
   ],
   "metadata": {
    "collapsed": false,
    "ExecuteTime": {
     "end_time": "2024-05-21T14:18:04.920494Z",
     "start_time": "2024-05-21T14:18:03.938006Z"
    }
   },
   "id": "78e4eddf9cdc393d"
  },
  {
   "cell_type": "code",
   "execution_count": 6,
   "outputs": [],
   "source": [],
   "metadata": {
    "collapsed": false,
    "ExecuteTime": {
     "end_time": "2024-05-21T14:17:49.307937600Z",
     "start_time": "2024-05-21T14:17:49.299930700Z"
    }
   },
   "id": "8ee499de2022eda2"
  }
 ],
 "metadata": {
  "kernelspec": {
   "display_name": "Python 3",
   "language": "python",
   "name": "python3"
  },
  "language_info": {
   "codemirror_mode": {
    "name": "ipython",
    "version": 2
   },
   "file_extension": ".py",
   "mimetype": "text/x-python",
   "name": "python",
   "nbconvert_exporter": "python",
   "pygments_lexer": "ipython2",
   "version": "2.7.6"
  }
 },
 "nbformat": 4,
 "nbformat_minor": 5
}
