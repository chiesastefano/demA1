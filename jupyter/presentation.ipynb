{
 "cells": [
  {
   "cell_type": "markdown",
   "source": [
    "# Point a"
   ],
   "metadata": {
    "collapsed": false
   },
   "id": "2bcfcb51386e65c8"
  },
  {
   "cell_type": "markdown",
   "source": [
    "We couldn't find the exact data asked, so we imported the best fitting data from FRED."
   ],
   "metadata": {
    "collapsed": false
   },
   "id": "25693a2b506e4b38"
  },
  {
   "cell_type": "markdown",
   "source": [],
   "metadata": {
    "collapsed": false
   },
   "id": "7f85a7f782c96500"
  },
  {
   "cell_type": "code",
   "execution_count": 70,
   "outputs": [],
   "source": [
    "import requests\n",
    "from key import fred_key\n",
    "import pandas as pd\n",
    "import numpy as np\n",
    "import statsmodels.api as sm\n",
    "import matplotlib.pyplot as plt\n",
    "\n",
    "\n",
    "base_url = \"https://api.stlouisfed.org/fred/\"\n",
    "obs_endpoint = \"series/observations\"\n",
    "\n",
    "start_date = \"1950-01-01\"\n",
    "end_date = \"2023-12-31\"\n",
    "\n",
    "\n",
    "def create_series_dict(name, series_id):\n",
    "    return {\n",
    "        'name': name,\n",
    "        'series_id': series_id,\n",
    "        'api_key': fred_key,\n",
    "        'file_type': 'json',\n",
    "        'observation_start': start_date,\n",
    "        'observation_end': end_date,\n",
    "        'frequency': 'a',\n",
    "        'units': 'lin'\n",
    "    }\n",
    "\n",
    "series_list = [\n",
    "    ('GDP', 'GDPC1'),\n",
    "    ('CND', 'PCEND'),\n",
    "    ('CD', 'PCEDG'),\n",
    "    ('H', 'HOANBS'),\n",
    "    ('L', 'PAYEMS'),\n",
    "    ('AveW', 'AHETPI')\n",
    "]\n",
    "\n",
    "request_parameters = [create_series_dict(name, series_id) for name, series_id in series_list]\n",
    "\n"
   ],
   "metadata": {
    "collapsed": false,
    "ExecuteTime": {
     "end_time": "2024-05-26T13:35:31.989938900Z",
     "start_time": "2024-05-26T13:35:31.977164600Z"
    }
   },
   "id": "78e4eddf9cdc393d"
  },
  {
   "cell_type": "code",
   "execution_count": 96,
   "outputs": [],
   "source": [
    "def fetch_data(parameter):\n",
    "    response = requests.get(base_url + obs_endpoint, params=parameter)\n",
    "    if response.status_code == 200:\n",
    "        res_data = response.json()\n",
    "        obs_data = pd.DataFrame(res_data['observations'])\n",
    "        obs_data['date'] = pd.to_datetime(obs_data['date'])\n",
    "        obs_data.set_index('date', inplace=True)\n",
    "        obs_data = obs_data.drop(['realtime_start', 'realtime_end'], axis=1)\n",
    "\n",
    "        # Convert 'value' to numeric, coercing errors to NaN\n",
    "        obs_data['value'] = pd.to_numeric(obs_data['value'], errors='coerce')\n",
    "\n",
    "        obs_data.rename(columns={'value': parameter['name']}, inplace=True)\n",
    "        return obs_data\n",
    "    else:\n",
    "        print('Failed to retrieve data. Status code:', response.status_code)\n",
    "        return pd.DataFrame()  # Return an empty DataFrame on failure\n",
    "    \n",
    "    \n",
    "dataframe = pd.DataFrame()\n",
    "# concatenate the data\n",
    "for parameter in request_parameters:\n",
    "    df = fetch_data(parameter)\n",
    "    if dataframe.empty:\n",
    "        dataframe = df\n",
    "    else:\n",
    "        dataframe = pd.concat([dataframe, df], axis=1)"
   ],
   "metadata": {
    "collapsed": false,
    "ExecuteTime": {
     "end_time": "2024-05-26T14:06:01.905536Z",
     "start_time": "2024-05-26T14:05:55.415900400Z"
    }
   },
   "id": "8ee499de2022eda2"
  },
  {
   "cell_type": "code",
   "execution_count": 95,
   "outputs": [],
   "source": [
    "# adjust the dataset\n",
    "\n",
    "# add productivity\n",
    "dataframe['GDP/L'] = (dataframe['GDP']/dataframe['L'])  # annual average income\n",
    "dataframe['AveH'] = dataframe['H']/dataframe['L']*1000\n",
    "dataset1 = dataframe.dropna()\n",
    "# data from 1964 to 2022\n",
    "\n"
   ],
   "metadata": {
    "collapsed": false,
    "ExecuteTime": {
     "end_time": "2024-05-26T14:05:49.132472400Z",
     "start_time": "2024-05-26T14:05:49.107795800Z"
    }
   },
   "id": "b5062fc89c465071"
  },
  {
   "cell_type": "markdown",
   "source": [
    "## Replicate Table 1"
   ],
   "metadata": {
    "collapsed": false
   },
   "id": "c61915f53184a616"
  },
  {
   "cell_type": "code",
   "execution_count": 73,
   "outputs": [
    {
     "data": {
      "text/plain": "             -4        -3        -2        -1         0         1         2  \\\nGDP    0.996157  0.996902  0.998006  0.999012       1.0  0.999012  0.998006   \nCND    0.989164  0.990058  0.989764  0.987779  0.986553  0.986209   0.98596   \nCD     0.991568  0.993298  0.989355  0.985254  0.981415  0.978577  0.976664   \nH      0.956995  0.951185  0.950265  0.951792  0.953955  0.948412  0.940684   \nL      0.975264  0.971531  0.969728  0.970067  0.971627    0.9699  0.966303   \nAveW   0.995252  0.995148  0.994857  0.994162  0.993219  0.993012  0.992738   \nGDP/L  0.988295  0.990481   0.99224   0.99373   0.99417  0.994016  0.995472   \nAveH  -0.881602 -0.883717 -0.879279 -0.875903 -0.876424 -0.889888 -0.908078   \n\n              3         4       SD%  \nGDP    0.996902  0.996157  0.456230  \nCND     0.98637  0.988491  0.750827  \nCD     0.974612  0.974694  0.781369  \nH      0.933495  0.926917  0.206383  \nL      0.962447  0.958619  0.255275  \nAveW   0.992388  0.993354  0.583056  \nGDP/L  0.996699  0.997268  0.226308  \nAveH  -0.924259 -0.930663  0.065301  ",
      "text/html": "<div>\n<style scoped>\n    .dataframe tbody tr th:only-of-type {\n        vertical-align: middle;\n    }\n\n    .dataframe tbody tr th {\n        vertical-align: top;\n    }\n\n    .dataframe thead th {\n        text-align: right;\n    }\n</style>\n<table border=\"1\" class=\"dataframe\">\n  <thead>\n    <tr style=\"text-align: right;\">\n      <th></th>\n      <th>-4</th>\n      <th>-3</th>\n      <th>-2</th>\n      <th>-1</th>\n      <th>0</th>\n      <th>1</th>\n      <th>2</th>\n      <th>3</th>\n      <th>4</th>\n      <th>SD%</th>\n    </tr>\n  </thead>\n  <tbody>\n    <tr>\n      <th>GDP</th>\n      <td>0.996157</td>\n      <td>0.996902</td>\n      <td>0.998006</td>\n      <td>0.999012</td>\n      <td>1.0</td>\n      <td>0.999012</td>\n      <td>0.998006</td>\n      <td>0.996902</td>\n      <td>0.996157</td>\n      <td>0.456230</td>\n    </tr>\n    <tr>\n      <th>CND</th>\n      <td>0.989164</td>\n      <td>0.990058</td>\n      <td>0.989764</td>\n      <td>0.987779</td>\n      <td>0.986553</td>\n      <td>0.986209</td>\n      <td>0.98596</td>\n      <td>0.98637</td>\n      <td>0.988491</td>\n      <td>0.750827</td>\n    </tr>\n    <tr>\n      <th>CD</th>\n      <td>0.991568</td>\n      <td>0.993298</td>\n      <td>0.989355</td>\n      <td>0.985254</td>\n      <td>0.981415</td>\n      <td>0.978577</td>\n      <td>0.976664</td>\n      <td>0.974612</td>\n      <td>0.974694</td>\n      <td>0.781369</td>\n    </tr>\n    <tr>\n      <th>H</th>\n      <td>0.956995</td>\n      <td>0.951185</td>\n      <td>0.950265</td>\n      <td>0.951792</td>\n      <td>0.953955</td>\n      <td>0.948412</td>\n      <td>0.940684</td>\n      <td>0.933495</td>\n      <td>0.926917</td>\n      <td>0.206383</td>\n    </tr>\n    <tr>\n      <th>L</th>\n      <td>0.975264</td>\n      <td>0.971531</td>\n      <td>0.969728</td>\n      <td>0.970067</td>\n      <td>0.971627</td>\n      <td>0.9699</td>\n      <td>0.966303</td>\n      <td>0.962447</td>\n      <td>0.958619</td>\n      <td>0.255275</td>\n    </tr>\n    <tr>\n      <th>AveW</th>\n      <td>0.995252</td>\n      <td>0.995148</td>\n      <td>0.994857</td>\n      <td>0.994162</td>\n      <td>0.993219</td>\n      <td>0.993012</td>\n      <td>0.992738</td>\n      <td>0.992388</td>\n      <td>0.993354</td>\n      <td>0.583056</td>\n    </tr>\n    <tr>\n      <th>GDP/L</th>\n      <td>0.988295</td>\n      <td>0.990481</td>\n      <td>0.99224</td>\n      <td>0.99373</td>\n      <td>0.99417</td>\n      <td>0.994016</td>\n      <td>0.995472</td>\n      <td>0.996699</td>\n      <td>0.997268</td>\n      <td>0.226308</td>\n    </tr>\n    <tr>\n      <th>AveH</th>\n      <td>-0.881602</td>\n      <td>-0.883717</td>\n      <td>-0.879279</td>\n      <td>-0.875903</td>\n      <td>-0.876424</td>\n      <td>-0.889888</td>\n      <td>-0.908078</td>\n      <td>-0.924259</td>\n      <td>-0.930663</td>\n      <td>0.065301</td>\n    </tr>\n  </tbody>\n</table>\n</div>"
     },
     "execution_count": 73,
     "metadata": {},
     "output_type": "execute_result"
    }
   ],
   "source": [
    "sd = dataset1.std()/dataset1.mean()\n",
    "\n",
    "lags = range(-4, 5)\n",
    "\n",
    "# initialize a DataFrame to store cross-correlation values\n",
    "cross_corr_df = pd.DataFrame(index=dataset1.columns, columns=lags)\n",
    "\n",
    "# calculate cross-correlation for each variable and each lag\n",
    "for col in dataset1.columns:\n",
    "    for lag in lags:\n",
    "        cross_corr_df.at[col, lag] = dataset1['GDP'].corr(dataset1[col].shift(-lag))\n",
    "\n",
    "\n",
    "\n",
    "cross_corr_df['SD%'] = sd\n",
    "table1 = cross_corr_df\n",
    "table1\n",
    "\n"
   ],
   "metadata": {
    "collapsed": false,
    "ExecuteTime": {
     "end_time": "2024-05-26T13:35:36.764099Z",
     "start_time": "2024-05-26T13:35:36.413942500Z"
    }
   },
   "id": "36799fabff07592f"
  },
  {
   "cell_type": "markdown",
   "source": [
    "There is a very high correlation with the GDP. This could mean that the Economist ran some de-trending techniques that are not specified in the Problem Set.  "
   ],
   "metadata": {
    "collapsed": false
   },
   "id": "bd072a89f14fa145"
  },
  {
   "cell_type": "code",
   "execution_count": 74,
   "outputs": [],
   "source": [
    "# import data for the second table\n",
    "\n",
    "series_list2 = [\n",
    "    ('Y', 'A939RC0Q052SBEA'),\n",
    "    ('C', 'A794RC0Q052SBEA'),\n",
    "    ('I', 'RGDPLPUSA625NUPN'),\n",
    "    ('w', 'LES1252881600Q'),\n",
    "    ('r', 'FEDFUNDS'),\n",
    "    ('A', 'RTFPNAUSA632NRUG')\n",
    "]\n",
    "\n",
    "request_parameters2 = [create_series_dict(name, series_id) for name, series_id in series_list2]\n",
    "\n",
    "\n",
    "dataframe2 = pd.DataFrame()\n",
    "# concatenate the data\n",
    "for parameter in request_parameters2:\n",
    "    df = fetch_data(parameter)\n",
    "    if dataframe2.empty:\n",
    "        dataframe2 = df\n",
    "    else:\n",
    "        dataframe2 = pd.concat([dataframe2, df], axis=1)\n",
    "\n",
    "dataframe2['N'] = dataset1['AveH']\n",
    "dataframe2['Y/N'] = dataframe2['Y']/dataframe2['N']\n",
    "\n",
    "dataset2 = dataframe2.dropna()\n",
    "# data from 1982 to 2007\n",
    "dataset3 = dataset2.apply(lambda col: np.log(col) if col.name != 'r' else col)\n",
    "\n",
    "\n",
    "\n",
    "dataset2_c  = pd.DataFrame()\n",
    "for column in dataset3.columns:\n",
    "    cycle, _ = sm.tsa.filters.hpfilter(dataset3[column], lamb=1600)\n",
    "    dataset2_c[column] = cycle\n",
    "\n",
    "\n",
    "\n"
   ],
   "metadata": {
    "collapsed": false,
    "ExecuteTime": {
     "end_time": "2024-05-26T13:35:42.468000300Z",
     "start_time": "2024-05-26T13:35:36.504418200Z"
    }
   },
   "id": "d298a3c7449b0602"
  },
  {
   "cell_type": "markdown",
   "source": [
    "## Replicate Table 2 "
   ],
   "metadata": {
    "collapsed": false
   },
   "id": "69a998a9454e1650"
  },
  {
   "cell_type": "code",
   "execution_count": 93,
   "outputs": [
    {
     "data": {
      "text/plain": "           SD        SD%         p    corr_Y\nY    0.034149   1.000000  0.764941  1.000000\nC    0.035240   1.031949  0.827277  0.978454\nI    0.031741   0.929493  0.717496  0.518569\nw    0.019735   0.577904  0.712322 -0.155843\nr    1.802591  52.786217  0.516510  0.142384\nA    0.011091   0.324782  0.558993  0.154666\nN    0.012061   0.353200  0.643295  0.558470\nY/N  0.029182   0.854545  0.789934  0.939387",
      "text/html": "<div>\n<style scoped>\n    .dataframe tbody tr th:only-of-type {\n        vertical-align: middle;\n    }\n\n    .dataframe tbody tr th {\n        vertical-align: top;\n    }\n\n    .dataframe thead th {\n        text-align: right;\n    }\n</style>\n<table border=\"1\" class=\"dataframe\">\n  <thead>\n    <tr style=\"text-align: right;\">\n      <th></th>\n      <th>SD</th>\n      <th>SD%</th>\n      <th>p</th>\n      <th>corr_Y</th>\n    </tr>\n  </thead>\n  <tbody>\n    <tr>\n      <th>Y</th>\n      <td>0.034149</td>\n      <td>1.000000</td>\n      <td>0.764941</td>\n      <td>1.000000</td>\n    </tr>\n    <tr>\n      <th>C</th>\n      <td>0.035240</td>\n      <td>1.031949</td>\n      <td>0.827277</td>\n      <td>0.978454</td>\n    </tr>\n    <tr>\n      <th>I</th>\n      <td>0.031741</td>\n      <td>0.929493</td>\n      <td>0.717496</td>\n      <td>0.518569</td>\n    </tr>\n    <tr>\n      <th>w</th>\n      <td>0.019735</td>\n      <td>0.577904</td>\n      <td>0.712322</td>\n      <td>-0.155843</td>\n    </tr>\n    <tr>\n      <th>r</th>\n      <td>1.802591</td>\n      <td>52.786217</td>\n      <td>0.516510</td>\n      <td>0.142384</td>\n    </tr>\n    <tr>\n      <th>A</th>\n      <td>0.011091</td>\n      <td>0.324782</td>\n      <td>0.558993</td>\n      <td>0.154666</td>\n    </tr>\n    <tr>\n      <th>N</th>\n      <td>0.012061</td>\n      <td>0.353200</td>\n      <td>0.643295</td>\n      <td>0.558470</td>\n    </tr>\n    <tr>\n      <th>Y/N</th>\n      <td>0.029182</td>\n      <td>0.854545</td>\n      <td>0.789934</td>\n      <td>0.939387</td>\n    </tr>\n  </tbody>\n</table>\n</div>"
     },
     "execution_count": 93,
     "metadata": {},
     "output_type": "execute_result"
    }
   ],
   "source": [
    "sd2 = dataset2_c.std()\n",
    "sd_r = sd2/dataset2_c['Y'].std()\n",
    "p = dataset2_c.apply(lambda series: series.autocorr(lag = 1)) # first order autocorrection (how much the t value is influenced by the t-1 value )\n",
    "corr_Y = dataset2_c.corr()['Y']\n",
    "\n",
    "table2 = pd.DataFrame(index=dataset2_c.columns)\n",
    "table2['SD'] = sd2\n",
    "table2['SD%'] = sd_r\n",
    "table2['p'] = p\n",
    "table2['corr_Y'] = corr_Y\n",
    "table2"
   ],
   "metadata": {
    "collapsed": false,
    "ExecuteTime": {
     "end_time": "2024-05-26T13:35:54.919817900Z",
     "start_time": "2024-05-26T13:35:54.823415500Z"
    }
   },
   "id": "af28ff3e3db61e64"
  },
  {
   "cell_type": "markdown",
   "source": [
    "# Point B"
   ],
   "metadata": {
    "collapsed": false
   },
   "id": "2c199dba0a83f081"
  },
  {
   "cell_type": "markdown",
   "source": [
    "## Is Consumption (C) Smoother than Output (Y)?"
   ],
   "metadata": {
    "collapsed": false
   },
   "id": "19a26e464380b0e0"
  },
  {
   "cell_type": "code",
   "execution_count": 76,
   "outputs": [
    {
     "data": {
      "text/plain": "<matplotlib.legend.Legend at 0x25ec32f4ad0>"
     },
     "execution_count": 76,
     "metadata": {},
     "output_type": "execute_result"
    },
    {
     "data": {
      "text/plain": "<Figure size 1200x600 with 1 Axes>",
      "image/png": "[encoded data removed]"
     },
     "metadata": {},
     "output_type": "display_data"
    }
   ],
   "source": [
    "plt.figure(figsize=(12, 6))\n",
    "plt.plot(dataset2_c.index, dataset2_c['Y'], label='Y')\n",
    "plt.plot(dataset2_c.index, dataset2_c['C'], label='C')\n",
    "plt.legend()"
   ],
   "metadata": {
    "collapsed": false,
    "ExecuteTime": {
     "end_time": "2024-05-26T13:35:42.855080700Z",
     "start_time": "2024-05-26T13:35:42.475238800Z"
    }
   },
   "id": "7e998f68be0c087"
  },
  {
   "cell_type": "markdown",
   "source": [
    "We can't really see."
   ],
   "metadata": {
    "collapsed": false
   },
   "id": "bc5444fd7c1cf66b"
  },
  {
   "cell_type": "code",
   "execution_count": 77,
   "outputs": [
    {
     "name": "stdout",
     "output_type": "stream",
     "text": [
      "Smoothness coefficient for Y: 0.021577125401106397\n",
      "Smoothness coefficient for C: 0.018898095189354272\n"
     ]
    }
   ],
   "source": [
    "diff_Y = dataset2_c['Y'].diff()\n",
    "diff_C = dataset2_c['C'].diff()\n",
    "\n",
    "# calculate the standard deviation of the first difference\n",
    "sc_Y = diff_Y.std()\n",
    "sc_C = diff_C.std()\n",
    "\n",
    "# lower standard deviation means smoother series\n",
    "print('Smoothness coefficient for Y:', sc_Y)\n",
    "print('Smoothness coefficient for C:', sc_C)"
   ],
   "metadata": {
    "collapsed": false,
    "ExecuteTime": {
     "end_time": "2024-05-26T13:35:42.905257500Z",
     "start_time": "2024-05-26T13:35:42.858073Z"
    }
   },
   "id": "d982ea11ccc0880d"
  },
  {
   "cell_type": "markdown",
   "source": [
    "We have computed the smoothness of Y and C with the standard deviation of the differences between different years. \n",
    "Consumption is smoother than the output because the standard deviation of the differences is lower."
   ],
   "metadata": {
    "collapsed": false
   },
   "id": "6b1a85b89152fec"
  },
  {
   "cell_type": "markdown",
   "source": [
    "## Is Volatility in GDP similar in magnitude to volatility in total hours?"
   ],
   "metadata": {
    "collapsed": false
   },
   "id": "1ae3b689e09b50e"
  },
  {
   "cell_type": "code",
   "execution_count": 78,
   "outputs": [
    {
     "name": "stdout",
     "output_type": "stream",
     "text": [
      " GDP SD: 0.45622985774816327\n",
      "Total Hours SD: 0.20638266428542026\n"
     ]
    }
   ],
   "source": [
    "sd_GDP = dataset1['GDP'].std()/dataset1['GDP'].mean()\n",
    "sd_H = dataset1['H'].std()/dataset1['H'].mean()\n",
    "print(' GDP SD:', sd_GDP)\n",
    "print('Total Hours SD:', sd_H)"
   ],
   "metadata": {
    "collapsed": false,
    "ExecuteTime": {
     "end_time": "2024-05-26T13:35:43.324141Z",
     "start_time": "2024-05-26T13:35:42.869593400Z"
    }
   },
   "id": "fca08d8c8aa6c203"
  },
  {
   "cell_type": "markdown",
   "source": [
    "They are not similar in magnitude. The relative standard deviation of GDP is more than double than the standard deviation of total hours."
   ],
   "metadata": {
    "collapsed": false
   },
   "id": "aea2710038ba9ef"
  },
  {
   "cell_type": "markdown",
   "source": [
    "## Is volatility in employment greater than volatility in average hours?"
   ],
   "metadata": {
    "collapsed": false
   },
   "id": "46f1db7789dafda1"
  },
  {
   "cell_type": "code",
   "execution_count": 79,
   "outputs": [
    {
     "name": "stdout",
     "output_type": "stream",
     "text": [
      "Employment SD: 0.25527535497308446\n",
      "Average Hours SD: 0.0653007267399741\n"
     ]
    }
   ],
   "source": [
    "sd_L = dataset1['L'].std()/dataset1['L'].mean()\n",
    "sd_AveH = dataset1['AveH'].std()/dataset1['AveH'].mean()\n",
    "print('Employment SD:', sd_L)\n",
    "print('Average Hours SD:', sd_AveH)"
   ],
   "metadata": {
    "collapsed": false,
    "ExecuteTime": {
     "end_time": "2024-05-26T13:35:43.327143300Z",
     "start_time": "2024-05-26T13:35:42.891893500Z"
    }
   },
   "id": "ed95f3db11fce7c8"
  },
  {
   "cell_type": "markdown",
   "source": [
    "Yes, the volatility in employment is much greater than the volatility in average hours."
   ],
   "metadata": {
    "collapsed": false
   },
   "id": "71c715a6e0b86ecd"
  },
  {
   "cell_type": "markdown",
   "source": [
    "## Is productivity slightly procyclical?"
   ],
   "metadata": {
    "collapsed": false
   },
   "id": "ae6ba95922e97226"
  },
  {
   "cell_type": "code",
   "execution_count": 80,
   "outputs": [
    {
     "name": "stdout",
     "output_type": "stream",
     "text": [
      "Correlation between Y and A: 0.15466648915714679\n"
     ]
    }
   ],
   "source": [
    "c_YA= dataset2_c['Y'].corr(dataset2_c['A'])\n",
    "print('Correlation between Y and A:', c_YA)"
   ],
   "metadata": {
    "collapsed": false,
    "ExecuteTime": {
     "end_time": "2024-05-26T13:35:43.370202800Z",
     "start_time": "2024-05-26T13:35:42.908206700Z"
    }
   },
   "id": "53725dcbab54efa7"
  },
  {
   "cell_type": "markdown",
   "source": [
    "Yes, productivity is slightly procyclical because the correlation is slightly positive."
   ],
   "metadata": {
    "collapsed": false
   },
   "id": "3ed598fc2eb953ed"
  },
  {
   "cell_type": "markdown",
   "source": [
    "## Are wages less variable than productivity?"
   ],
   "metadata": {
    "collapsed": false
   },
   "id": "cbb2f59e2c05bdf1"
  },
  {
   "cell_type": "code",
   "execution_count": 94,
   "outputs": [
    {
     "name": "stdout",
     "output_type": "stream",
     "text": [
      "Wages SD: 0.03201728814382639\n",
      "Productivity SD: 0.07198321702621593\n"
     ]
    }
   ],
   "source": [
    "sd_W = dataset2['w'].std()/dataset2['w'].mean()\n",
    "sd_A = dataset2['A'].std()/dataset2['A'].mean()\n",
    "print('Wages SD:', sd_W)\n",
    "print('Productivity SD:', sd_A)\n"
   ],
   "metadata": {
    "collapsed": false,
    "ExecuteTime": {
     "end_time": "2024-05-26T13:51:57.576777400Z",
     "start_time": "2024-05-26T13:51:57.502594900Z"
    }
   },
   "id": "d870b284573a33da"
  },
  {
   "cell_type": "markdown",
   "source": [
    "Yes, wages are less variable than productivity."
   ],
   "metadata": {
    "collapsed": false
   },
   "id": "948111a45a76c1c1"
  },
  {
   "cell_type": "markdown",
   "source": [
    "## Is there correlation between wages and output?"
   ],
   "metadata": {
    "collapsed": false
   },
   "id": "5ea328474768541a"
  },
  {
   "cell_type": "code",
   "execution_count": 82,
   "outputs": [
    {
     "name": "stdout",
     "output_type": "stream",
     "text": [
      "Correlation between Y and w: 0.7189419826488415\n"
     ]
    }
   ],
   "source": [
    "c_Yw = dataset2['Y'].corr(dataset2['w'])\n",
    "print('Correlation between Y and w:', c_Yw)"
   ],
   "metadata": {
    "collapsed": false,
    "ExecuteTime": {
     "end_time": "2024-05-26T13:35:43.410912Z",
     "start_time": "2024-05-26T13:35:42.991621300Z"
    }
   },
   "id": "e850b350dfd79e55"
  },
  {
   "cell_type": "markdown",
   "source": [
    "Yes, there is a strong positive correlation between wages and output."
   ],
   "metadata": {
    "collapsed": false
   },
   "id": "150d7484ad7894cf"
  },
  {
   "cell_type": "markdown",
   "source": [
    "# Point C"
   ],
   "metadata": {
    "collapsed": false
   },
   "id": "471e891eb18d2b61"
  },
  {
   "cell_type": "markdown",
   "source": [
    "## Is consumption of non-durables less volatile than output?"
   ],
   "metadata": {
    "collapsed": false
   },
   "id": "76b59bc6bacb8011"
  },
  {
   "cell_type": "code",
   "execution_count": 83,
   "outputs": [
    {
     "name": "stdout",
     "output_type": "stream",
     "text": [
      "CND SD: 0.7508268658127834\n",
      "Output SD: 0.45622985774816327\n"
     ]
    }
   ],
   "source": [
    "sd_CND = dataset1['CND'].std()/dataset1['CND'].mean()\n",
    "sd_Y = dataset1['GDP'].std()/dataset1['GDP'].mean()\n",
    "print('CND SD:', sd_CND)\n",
    "print('Output SD:', sd_Y)"
   ],
   "metadata": {
    "collapsed": false,
    "ExecuteTime": {
     "end_time": "2024-05-26T13:35:43.411913100Z",
     "start_time": "2024-05-26T13:35:43.004481700Z"
    }
   },
   "id": "a1006f9c0c012e56"
  },
  {
   "cell_type": "markdown",
   "source": [
    "No, consumption of non-durables is more volatile than output."
   ],
   "metadata": {
    "collapsed": false
   },
   "id": "4738e48827667ed4"
  },
  {
   "cell_type": "markdown",
   "source": [
    "## Is durables consumption more volatile than output?"
   ],
   "metadata": {
    "collapsed": false
   },
   "id": "9c3af650846d6878"
  },
  {
   "cell_type": "code",
   "execution_count": 84,
   "outputs": [
    {
     "name": "stdout",
     "output_type": "stream",
     "text": [
      "CD SD: 0.781368866709871\n"
     ]
    }
   ],
   "source": [
    "sd_CD = dataset1['CD'].std()/dataset1['CD'].mean()\n",
    "print('CD SD:', sd_CD)"
   ],
   "metadata": {
    "collapsed": false,
    "ExecuteTime": {
     "end_time": "2024-05-26T13:35:43.412912Z",
     "start_time": "2024-05-26T13:35:43.022596300Z"
    }
   },
   "id": "2b17a85d8d101f81"
  },
  {
   "cell_type": "markdown",
   "source": [
    "Yes, durables consumption is more volatile than output."
   ],
   "metadata": {
    "collapsed": false
   },
   "id": "25eee10c1c7e92f7"
  },
  {
   "cell_type": "markdown",
   "source": [
    "## Is investment three times more volatile than output?"
   ],
   "metadata": {
    "collapsed": false
   },
   "id": "959cf4ef7e1ce3c4"
  },
  {
   "cell_type": "code",
   "execution_count": 85,
   "outputs": [
    {
     "name": "stdout",
     "output_type": "stream",
     "text": [
      "Investment SD: 0.18126323777437398\n",
      "Output SD: 0.39756127545406267\n"
     ]
    }
   ],
   "source": [
    "sd_I = dataset2['I'].std()/dataset2['I'].mean()\n",
    "sd_Y = dataset2['Y'].std()/dataset2['Y'].mean()\n",
    "print('Investment SD:', sd_I)\n",
    "print('Output SD:', sd_Y)\n"
   ],
   "metadata": {
    "collapsed": false,
    "ExecuteTime": {
     "end_time": "2024-05-26T13:35:43.414912600Z",
     "start_time": "2024-05-26T13:35:43.041178900Z"
    }
   },
   "id": "96d40e72b77dbace"
  },
  {
   "cell_type": "markdown",
   "source": [
    "No, investment is not three times more volatile than output."
   ],
   "metadata": {
    "collapsed": false
   },
   "id": "2489c9969a6ef7cb"
  },
  {
   "cell_type": "markdown",
   "source": [
    "## Is Government Spending less volatile than output?\n",
    "\n",
    "We don't have data for government spending and trade balance in the dataset. We will fetch the data from FRED."
   ],
   "metadata": {
    "collapsed": false
   },
   "id": "791ec8b45aa0a9a6"
  },
  {
   "cell_type": "code",
   "execution_count": 86,
   "outputs": [
    {
     "name": "stdout",
     "output_type": "stream",
     "text": [
      "Government Spending SD: 0.3883564096965604\n",
      "Output SD: 0.45622985774816327\n"
     ]
    }
   ],
   "source": [
    "public_expenditure = [('G', 'GCEC1')] # real government consumption expenditures and gross investment\n",
    "g = [create_series_dict(name, series_id) for name, series_id in public_expenditure]\n",
    "g_dataframe = fetch_data(g[0])\n",
    "\n",
    "\n",
    "sd_G = g_dataframe['G'].std()/g_dataframe['G'].mean()\n",
    "sd_Y = dataset1['GDP'].std()/dataset1['GDP'].mean()\n",
    "print('Government Spending SD:', sd_G)\n",
    "print('Output SD:', sd_Y)\n",
    "\n",
    "\n"
   ],
   "metadata": {
    "collapsed": false,
    "ExecuteTime": {
     "end_time": "2024-05-26T13:35:44.139947700Z",
     "start_time": "2024-05-26T13:35:43.063197200Z"
    }
   },
   "id": "a9903a1151a34d75"
  },
  {
   "cell_type": "markdown",
   "source": [
    "Yes, Government Spending is less volatile than output."
   ],
   "metadata": {
    "collapsed": false
   },
   "id": "e9a149fb28955025"
  },
  {
   "cell_type": "markdown",
   "source": [
    "## Is total hours worked about as volatile as output?"
   ],
   "metadata": {
    "collapsed": false
   },
   "id": "d4b5fa6ac0f6b718"
  },
  {
   "cell_type": "code",
   "execution_count": 87,
   "outputs": [
    {
     "name": "stdout",
     "output_type": "stream",
     "text": [
      "Total Hours SD: 0.20638266428542026\n",
      "Output SD: 0.45622985774816327\n"
     ]
    }
   ],
   "source": [
    "sd_H = dataset1['H'].std()/dataset1['H'].mean()\n",
    "sd_Y = dataset1['GDP'].std()/dataset1['GDP'].mean()\n",
    "print('Total Hours SD:', sd_H)\n",
    "print('Output SD:', sd_Y)"
   ],
   "metadata": {
    "collapsed": false,
    "ExecuteTime": {
     "end_time": "2024-05-26T13:35:44.141947200Z",
     "start_time": "2024-05-26T13:35:44.072872300Z"
    }
   },
   "id": "f4afbf2a2ba85e18"
  },
  {
   "cell_type": "markdown",
   "source": [
    "No, output is more than two times more volatile than total hours worked."
   ],
   "metadata": {
    "collapsed": false
   },
   "id": "dc2ee0d482a735dc"
  },
  {
   "cell_type": "markdown",
   "source": [
    "## Is capital much less volatile than output?\n"
   ],
   "metadata": {
    "collapsed": false
   },
   "id": "b6c2d97c109deb75"
  },
  {
   "cell_type": "markdown",
   "source": [
    "We couldn't find data about real total capital. We've then fetched nominal data from FRED both for capital and GDP. Comparing Real GDP with Nominal Capital wouldn't have sense, because the second one volability is influenced by inflation. "
   ],
   "metadata": {
    "collapsed": false
   },
   "id": "ba61a4952b6c7e7b"
  },
  {
   "cell_type": "code",
   "execution_count": 88,
   "outputs": [
    {
     "name": "stdout",
     "output_type": "stream",
     "text": [
      "Capital SD: 0.9768640775216679\n",
      "Output SD: 1.0005333399020928\n"
     ]
    }
   ],
   "source": [
    "capital = [('K', 'BOGZ1FA895050005Q')] # total capital expenditure\n",
    "k = [create_series_dict(name, series_id) for name, series_id in capital]\n",
    "k_dataframe = fetch_data(k[0])\n",
    "\n",
    "nominal_gdp = [('NGDP', 'GDP')] # total capital expenditure\n",
    "ngdp = [create_series_dict(name, series_id) for name, series_id in nominal_gdp]\n",
    "ngdp_dataframe = fetch_data(ngdp[0])\n",
    "\n",
    "sd_K = k_dataframe['K'].std()/k_dataframe['K'].mean()\n",
    "sd_Y = ngdp_dataframe['NGDP'].std()/ngdp_dataframe['NGDP'].mean()\n",
    "print('Capital SD:', sd_K)\n",
    "print('Output SD:', sd_Y)"
   ],
   "metadata": {
    "collapsed": false,
    "ExecuteTime": {
     "end_time": "2024-05-26T13:35:45.536530500Z",
     "start_time": "2024-05-26T13:35:44.085208Z"
    }
   },
   "id": "c679c39489d6f12b"
  },
  {
   "cell_type": "markdown",
   "source": [
    "Yes, capital is less volatile than output, we wouldn't say \"much less\"."
   ],
   "metadata": {
    "collapsed": false
   },
   "id": "37441812587973e6"
  },
  {
   "cell_type": "markdown",
   "source": [
    "## Is Employment as volatile as output? Are hours per worker much less volatile than output?"
   ],
   "metadata": {
    "collapsed": false
   },
   "id": "15927436d2ddc569"
  },
  {
   "cell_type": "code",
   "execution_count": 89,
   "outputs": [
    {
     "name": "stdout",
     "output_type": "stream",
     "text": [
      "Employment SD: 0.25527535497308446\n",
      "Output SD: 0.45622985774816327\n"
     ]
    }
   ],
   "source": [
    "sd_L = dataset1['L'].std()/dataset1['L'].mean()\n",
    "sd_Y = dataset1['GDP'].std()/dataset1['GDP'].mean()\n",
    "print('Employment SD:', sd_L)\n",
    "print('Output SD:', sd_Y)"
   ],
   "metadata": {
    "collapsed": false,
    "ExecuteTime": {
     "end_time": "2024-05-26T13:35:45.538524900Z",
     "start_time": "2024-05-26T13:35:45.524609700Z"
    }
   },
   "id": "f2b87ac3d4f054d7"
  },
  {
   "cell_type": "markdown",
   "source": [
    "No, employment is much less volatile than output. "
   ],
   "metadata": {
    "collapsed": false
   },
   "id": "9a1171c85736b3e2"
  },
  {
   "cell_type": "code",
   "execution_count": 90,
   "outputs": [
    {
     "name": "stdout",
     "output_type": "stream",
     "text": [
      "Hours per Worker SD: 0.033349727279074724\n",
      "Output SD: 0.39756127545406267\n"
     ]
    }
   ],
   "source": [
    "sd_N = dataset2['N'].std()/dataset2['N'].mean()\n",
    "sd_Y = dataset2['Y'].std()/dataset2['Y'].mean()\n",
    "print('Hours per Worker SD:', sd_N)\n",
    "print('Output SD:', sd_Y)"
   ],
   "metadata": {
    "collapsed": false,
    "ExecuteTime": {
     "end_time": "2024-05-26T13:35:45.569493200Z",
     "start_time": "2024-05-26T13:35:45.534525900Z"
    }
   },
   "id": "d9dc4399f4760158"
  },
  {
   "cell_type": "markdown",
   "source": [
    "Yes, hours per worker is much less volatile than output."
   ],
   "metadata": {
    "collapsed": false
   },
   "id": "b23ce80ec226bc48"
  },
  {
   "cell_type": "markdown",
   "source": [
    "## Is productivity less volatile than output?"
   ],
   "metadata": {
    "collapsed": false
   },
   "id": "46858700774e8c30"
  },
  {
   "cell_type": "code",
   "execution_count": 91,
   "outputs": [
    {
     "name": "stdout",
     "output_type": "stream",
     "text": [
      "Productivity SD: 0.07198321702621593\n",
      "Output SD: 0.39756127545406267\n"
     ]
    }
   ],
   "source": [
    "sd_A = dataset2['A'].std()/dataset2['A'].mean()\n",
    "sd_Y = dataset2['Y'].std()/dataset2['Y'].mean()\n",
    "print('Productivity SD:', sd_A)\n",
    "print('Output SD:', sd_Y)"
   ],
   "metadata": {
    "collapsed": false,
    "ExecuteTime": {
     "end_time": "2024-05-26T13:35:45.570486100Z",
     "start_time": "2024-05-26T13:35:45.554380200Z"
    }
   },
   "id": "36a418cf8e75973a"
  },
  {
   "cell_type": "markdown",
   "source": [
    "Yes, productivity is less volatile than output."
   ],
   "metadata": {
    "collapsed": false
   },
   "id": "b32f2f42057666b8"
  },
  {
   "cell_type": "markdown",
   "source": [
    "## Is the real wage much less volatile than output?"
   ],
   "metadata": {
    "collapsed": false
   },
   "id": "d4589533e8113863"
  },
  {
   "cell_type": "code",
   "execution_count": 92,
   "outputs": [
    {
     "name": "stdout",
     "output_type": "stream",
     "text": [
      "Real Wage SD: 0.03201728814382639\n",
      "Output SD: 0.39756127545406267\n"
     ]
    }
   ],
   "source": [
    "sd_w = dataset2['w'].std()/dataset2['w'].mean()\n",
    "sd_Y = dataset2['Y'].std()/dataset2['Y'].mean()\n",
    "print('Real Wage SD:', sd_w)\n",
    "print('Output SD:', sd_Y)"
   ],
   "metadata": {
    "collapsed": false,
    "ExecuteTime": {
     "end_time": "2024-05-26T13:35:45.828003500Z",
     "start_time": "2024-05-26T13:35:45.569493200Z"
    }
   },
   "id": "408cf906d02d21ba"
  },
  {
   "cell_type": "markdown",
   "source": [
    "Yes, the real wage is less volatile than output."
   ],
   "metadata": {
    "collapsed": false
   },
   "id": "51ce945aa14a3998"
  },
  {
   "cell_type": "markdown",
   "source": [],
   "metadata": {
    "collapsed": false
   },
   "id": "46d3f42c88191492"
  }
 ],
 "metadata": {
  "kernelspec": {
   "display_name": "Python 3",
   "language": "python",
   "name": "python3"
  },
  "language_info": {
   "codemirror_mode": {
    "name": "ipython",
    "version": 2
   },
   "file_extension": ".py",
   "mimetype": "text/x-python",
   "name": "python",
   "nbconvert_exporter": "python",
   "pygments_lexer": "ipython2",
   "version": "2.7.6"
  }
 },
 "nbformat": 4,
 "nbformat_minor": 5
}
